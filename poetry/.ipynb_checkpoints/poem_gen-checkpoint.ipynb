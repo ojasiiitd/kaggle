{
 "cells": [
  {
   "cell_type": "code",
   "execution_count": 129,
   "metadata": {},
   "outputs": [],
   "source": [
    "import pandas as pd\n",
    "import numpy as np\n",
    "import tensorflow as tf\n",
    "from keras.models import Sequential\n",
    "from keras.layers import SimpleRNN , LSTM , Dense , Activation , Dropout"
   ]
  },
  {
   "cell_type": "code",
   "execution_count": 130,
   "metadata": {},
   "outputs": [
    {
     "data": {
      "text/plain": [
       "0      Let the bird of loudest lay\\r\\nOn the sole Ara...\n",
       "1      Sir Charles into my chamber coming in,\\r\\nWhen...\n",
       "2      Our vice runs beyond all that old men saw,\\r\\n...\n",
       "3      Lo I the man, whose Muse whilome did maske,\\r\\...\n",
       "4      Long have I longd to see my love againe,\\r\\nSt...\n",
       "                             ...                        \n",
       "568    With the man I love who loves me not,\\r\\nI wal...\n",
       "569    Hart Crane, \"Voyages I, II, III, IV, V, VI\" fr...\n",
       "570    When you are old and grey and full of sleep,\\r...\n",
       "571    Give me hunger,\\r\\nO you gods that sit and giv...\n",
       "572    Potuia, potuia\\r\\nWhite grave goddess,\\r\\nPity...\n",
       "Name: content, Length: 573, dtype: object"
      ]
     },
     "execution_count": 130,
     "metadata": {},
     "output_type": "execute_result"
    }
   ],
   "source": [
    "df = pd.read_csv(\"all.csv\")[\"content\"]\n",
    "df"
   ]
  },
  {
   "cell_type": "code",
   "execution_count": 131,
   "metadata": {},
   "outputs": [],
   "source": [
    "text = df.str.cat(sep='\\n').lower()\n",
    "text\n",
    "chars = sorted(list(set(text)))\n",
    "chars\n",
    "\n",
    "char_indices = dict((c, i) for i, c in enumerate(chars))\n",
    "indices_char = dict((i, c) for i, c in enumerate(chars))"
   ]
  },
  {
   "cell_type": "code",
   "execution_count": 132,
   "metadata": {},
   "outputs": [],
   "source": [
    "window = 60\n",
    "step = 3\n",
    "sentences = []\n",
    "next_chars = []\n",
    "for i in range(0, len(text) - window, step):\n",
    "    sentences.append(text[i: i + window]) \n",
    "    next_chars.append(text[i + window])\n",
    "sentences = np.array(sentences)\n",
    "next_chars = np.array(next_chars)"
   ]
  },
  {
   "cell_type": "code",
   "execution_count": 133,
   "metadata": {},
   "outputs": [],
   "source": [
    "def getdata(sentences, next_chars):\n",
    "    x = np.zeros((len(sentences), window, len(chars)), dtype=np.bool)\n",
    "    y = np.zeros((len(sentences), len(chars)), dtype=np.bool)\n",
    "    length = len(sentences)\n",
    "    index = 0\n",
    "    for i in range(len(sentences)):\n",
    "        sentence = sentences[i]\n",
    "        for t, char in enumerate(sentence):\n",
    "            x[i, t, char_indices[char]] = 1\n",
    "        y[i, char_indices[next_chars[i]]] = 1\n",
    "    return x , y"
   ]
  },
  {
   "cell_type": "code",
   "execution_count": 134,
   "metadata": {},
   "outputs": [],
   "source": [
    "x , y = getdata(sentences , next_chars)"
   ]
  },
  {
   "cell_type": "code",
   "execution_count": 135,
   "metadata": {},
   "outputs": [],
   "source": [
    "model = Sequential()\n",
    "\n",
    "model.add( LSTM(64, input_shape=(window, len(chars))) )\n",
    "\n",
    "model.add( Dense(len(chars)) )\n",
    "model.add(Activation('softmax'))\n",
    "\n",
    "model.compile(loss='categorical_crossentropy', optimizer='adam')"
   ]
  },
  {
   "cell_type": "code",
   "execution_count": 136,
   "metadata": {},
   "outputs": [
    {
     "name": "stdout",
     "output_type": "stream",
     "text": [
      "Epoch 1/5\n",
      "1893/1893 [==============================] - 157s 83ms/step - loss: 2.5950\n",
      "Epoch 2/5\n",
      "1893/1893 [==============================] - 159s 84ms/step - loss: 2.1944\n",
      "Epoch 3/5\n",
      "1893/1893 [==============================] - 151s 80ms/step - loss: 2.0901\n",
      "Epoch 4/5\n",
      "1893/1893 [==============================] - 154s 81ms/step - loss: 2.0210\n",
      "Epoch 5/5\n",
      "1893/1893 [==============================] - 185s 98ms/step - loss: 1.9719\n"
     ]
    },
    {
     "data": {
      "text/plain": [
       "<tensorflow.python.keras.callbacks.History at 0x7f023940f710>"
      ]
     },
     "execution_count": 136,
     "metadata": {},
     "output_type": "execute_result"
    }
   ],
   "source": [
    "model.fit(x , y , epochs=5 , batch_size=100)"
   ]
  },
  {
   "cell_type": "code",
   "execution_count": 137,
   "metadata": {},
   "outputs": [],
   "source": [
    "def sample(preds, temperature=1.0):\n",
    "    preds = np.asarray(preds).astype('float64')\n",
    "    preds = np.log(preds) / temperature\n",
    "    exp_preds = np.exp(preds)\n",
    "    preds = exp_preds / np.sum(exp_preds)\n",
    "    probas = np.random.multinomial(1, preds, 1)\n",
    "    return np.argmax(probas)"
   ]
  },
  {
   "cell_type": "code",
   "execution_count": 138,
   "metadata": {},
   "outputs": [
    {
     "name": "stdout",
     "output_type": "stream",
     "text": [
      "the sun\n",
      " the moon\n",
      "shine the ojas \n",
      "e.erdneeoyaaueernheti\r",
      "iieuly\r",
      "fiirooa.corlyretfesieemiwreltoiylvnrms-siriusiarisieialriemrspuroee:;enietoiisileem.eeloeaupaeo.lsfniyre,illestiioiunlreyeogsy reourtie eyamin.nyinoieeeoidrif\r",
      "nietnersariuyr\r",
      "oieeeeeiyimnioirrrrouoiio -nwiearoa:ilaldto\n",
      "ose;aiomekwoaeeenofaoseeciongerteeidcpcioaiioerrnoua,oakuaoiiotaatrflgtierbeeelliieewiesloiaeyiiaayaannuaboeaussilaiasasayaiiu\r",
      "ael\n",
      "siaerioearreiordsderii\n"
     ]
    }
   ],
   "source": [
    "generated = ''\n",
    "original = sentence\n",
    "sen = sentence\n",
    "\n",
    "for i in range(400):\n",
    "    xx = np.zeros((1, window, len(chars)))\n",
    "    for t, char in enumerate(sen):\n",
    "        xx[0, t, char_indices[char]] = 1.\n",
    "\n",
    "    preds = model.predict(xx, verbose=0)[0]\n",
    "    next_index = sample(preds)\n",
    "    next_char = indices_char[next_index]\n",
    "\n",
    "    generated += next_char\n",
    "    sen = sen[1:] + next_char\n",
    "\n",
    "print(original)\n",
    "print(generated)"
   ]
  },
  {
   "cell_type": "code",
   "execution_count": null,
   "metadata": {},
   "outputs": [],
   "source": []
  }
 ],
 "metadata": {
  "kernelspec": {
   "display_name": "venv",
   "language": "python",
   "name": "venv"
  },
  "language_info": {
   "codemirror_mode": {
    "name": "ipython",
    "version": 3
   },
   "file_extension": ".py",
   "mimetype": "text/x-python",
   "name": "python",
   "nbconvert_exporter": "python",
   "pygments_lexer": "ipython3",
   "version": "3.6.9"
  }
 },
 "nbformat": 4,
 "nbformat_minor": 4
}
