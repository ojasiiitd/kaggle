{
 "cells": [
  {
   "cell_type": "code",
   "execution_count": 1,
   "metadata": {},
   "outputs": [],
   "source": [
    "import pandas as pd\n",
    "import numpy as np"
   ]
  },
  {
   "cell_type": "code",
   "execution_count": 2,
   "metadata": {},
   "outputs": [
    {
     "data": {
      "text/html": [
       "<div>\n",
       "<style scoped>\n",
       "    .dataframe tbody tr th:only-of-type {\n",
       "        vertical-align: middle;\n",
       "    }\n",
       "\n",
       "    .dataframe tbody tr th {\n",
       "        vertical-align: top;\n",
       "    }\n",
       "\n",
       "    .dataframe thead th {\n",
       "        text-align: right;\n",
       "    }\n",
       "</style>\n",
       "<table border=\"1\" class=\"dataframe\">\n",
       "  <thead>\n",
       "    <tr style=\"text-align: right;\">\n",
       "      <th></th>\n",
       "      <th>0</th>\n",
       "    </tr>\n",
       "  </thead>\n",
       "  <tbody>\n",
       "    <tr>\n",
       "      <th>0</th>\n",
       "      <td>&gt;2BBV:C</td>\n",
       "    </tr>\n",
       "    <tr>\n",
       "      <th>1</th>\n",
       "      <td>TQTAPVPQQNVPALTRLSQPGLAFLKCAFAPPDFNTDPGKGIPDRF...</td>\n",
       "    </tr>\n",
       "    <tr>\n",
       "      <th>2</th>\n",
       "      <td>0000000000001110001001000100000001000000000000...</td>\n",
       "    </tr>\n",
       "    <tr>\n",
       "      <th>3</th>\n",
       "      <td>&gt;1A9N:D</td>\n",
       "    </tr>\n",
       "    <tr>\n",
       "      <th>4</th>\n",
       "      <td>IRPNHTIYINNMNDKIKKEELKRSLYALFSQFGHVVDIVALKTMKM...</td>\n",
       "    </tr>\n",
       "    <tr>\n",
       "      <th>...</th>\n",
       "      <td>...</td>\n",
       "    </tr>\n",
       "    <tr>\n",
       "      <th>202</th>\n",
       "      <td>MVVTRIAPSPTGDPHVGTAYIALFNYAWARRNGGRFIVRIEDTDRA...</td>\n",
       "    </tr>\n",
       "    <tr>\n",
       "      <th>203</th>\n",
       "      <td>0000001010000000000000000000000000000000101100...</td>\n",
       "    </tr>\n",
       "    <tr>\n",
       "      <th>204</th>\n",
       "      <td>&gt;1QF6:A</td>\n",
       "    </tr>\n",
       "    <tr>\n",
       "      <th>205</th>\n",
       "      <td>PVITLPDGSQRHYDHAVSPMDVALDIGPGLAKACIAGRVNGELVDA...</td>\n",
       "    </tr>\n",
       "    <tr>\n",
       "      <th>206</th>\n",
       "      <td>0000000000000000000000000000000000000000000000...</td>\n",
       "    </tr>\n",
       "  </tbody>\n",
       "</table>\n",
       "<p>207 rows × 1 columns</p>\n",
       "</div>"
      ],
      "text/plain": [
       "                                                     0\n",
       "0                                              >2BBV:C\n",
       "1    TQTAPVPQQNVPALTRLSQPGLAFLKCAFAPPDFNTDPGKGIPDRF...\n",
       "2    0000000000001110001001000100000001000000000000...\n",
       "3                                              >1A9N:D\n",
       "4    IRPNHTIYINNMNDKIKKEELKRSLYALFSQFGHVVDIVALKTMKM...\n",
       "..                                                 ...\n",
       "202  MVVTRIAPSPTGDPHVGTAYIALFNYAWARRNGGRFIVRIEDTDRA...\n",
       "203  0000001010000000000000000000000000000000101100...\n",
       "204                                            >1QF6:A\n",
       "205  PVITLPDGSQRHYDHAVSPMDVALDIGPGLAKACIAGRVNGELVDA...\n",
       "206  0000000000000000000000000000000000000000000000...\n",
       "\n",
       "[207 rows x 1 columns]"
      ]
     },
     "execution_count": 2,
     "metadata": {},
     "output_type": "execute_result"
    }
   ],
   "source": [
    "data = pd.read_csv(\"Main_data.txt\" , header=None , sep=\"\\n\")\n",
    "data"
   ]
  },
  {
   "cell_type": "code",
   "execution_count": 3,
   "metadata": {},
   "outputs": [],
   "source": [
    "s = \"TQTAPVPQQNVPALTRLSQPGLAFLKCAFAPPDFNTDPGKGIPDRFEGKVVTRKDVLNQSINFTANRDTFILIAPTPGVAYWVADVPAGTFPISTTTFNAVNFPGFNSMFGNAAASRSDQVSSFRYASMNVGIYPTSNLMQFAGSITVWKCPVKLSNVQFPVATTPATSALVHTLVGLDGVLAVGPDNFSESFIKGVFSQSVCNEPDFEFSDILEGIQTLPPANVTVATSGQPFNLAAGAEAVSGIVGWGNMDTIVIRVSAPTGAVNSAILKTWACLEYRPNPNAMLYQFGHDSPPCDEVALQEYRTVARSLPVAVIAAQN\"\n",
    "b = \"000000000000111000100100010000000100000000000000000000000000000000000000000000000000000000000000000000000000000000000000000000000000000000000000000000000000000000000000000000000000000000000000000000000000000000000000000000000000000000000000000000000000000000000000000000000000000000000000000000000000000000000000000000000\""
   ]
  },
  {
   "cell_type": "code",
   "execution_count": 4,
   "metadata": {
    "scrolled": true
   },
   "outputs": [
    {
     "data": {
      "text/plain": [
       "{'2B': 1,\n",
       " '1A': 2,\n",
       " '1B': 3,\n",
       " '1C': 4,\n",
       " '1D': 5,\n",
       " '1E': 6,\n",
       " '1F': 7,\n",
       " '1G': 8,\n",
       " '1H': 9,\n",
       " '1I': 10,\n",
       " '1J': 11,\n",
       " '1K': 12,\n",
       " '1L': 13,\n",
       " '1M': 14,\n",
       " '1N': 15,\n",
       " '1Q': 16}"
      ]
     },
     "execution_count": 4,
     "metadata": {},
     "output_type": "execute_result"
    }
   ],
   "source": [
    "num = 1\n",
    "map = {}\n",
    "for d in data[0] :\n",
    "    if d[0] == \">\":\n",
    "        key = d[1:-4]\n",
    "        if key in map :\n",
    "            continue\n",
    "        map[key] = num\n",
    "        num += 1\n",
    "map"
   ]
  },
  {
   "cell_type": "code",
   "execution_count": 5,
   "metadata": {},
   "outputs": [],
   "source": [
    "protein = []\n",
    "alphabet = []\n",
    "bind = []\n",
    "for i in range(len(data[0])) :\n",
    "    if data[0][i][0] == \">\":\n",
    "        key = data[0][i][1:-4]\n",
    "        for j in range(len(data[0][i+1])) :\n",
    "            protein.append(map[key])\n",
    "            alphabet.append(ord(data[0][i+1][j]))\n",
    "            bind.append(data[0][i+2][j])"
   ]
  },
  {
   "cell_type": "code",
   "execution_count": 6,
   "metadata": {},
   "outputs": [],
   "source": [
    "x = pd.DataFrame()\n",
    "x[\"protein\"] = protein\n",
    "x[\"alpha\"] = alphabet\n",
    "y = bind"
   ]
  },
  {
   "cell_type": "code",
   "execution_count": 7,
   "metadata": {},
   "outputs": [],
   "source": [
    "from sklearn.svm import SVC\n",
    "from sklearn.model_selection import RandomizedSearchCV , GridSearchCV , train_test_split\n",
    "from sklearn.ensemble import RandomForestClassifier\n",
    "from sklearn.preprocessing import StandardScaler"
   ]
  },
  {
   "cell_type": "code",
   "execution_count": 8,
   "metadata": {},
   "outputs": [],
   "source": [
    "x_train , x_test , y_train , y_test = train_test_split(x , y)"
   ]
  },
  {
   "cell_type": "code",
   "execution_count": 9,
   "metadata": {},
   "outputs": [
    {
     "data": {
      "text/plain": [
       "SVC(C=0.001, gamma=0.01)"
      ]
     },
     "execution_count": 9,
     "metadata": {},
     "output_type": "execute_result"
    }
   ],
   "source": [
    "scaler = StandardScaler()\n",
    "x_train_scaled = scaler.fit_transform(x_train)\n",
    "clf = SVC(C=0.001, gamma=0.01)\n",
    "clf.fit(x_train_scaled , y_train)"
   ]
  },
  {
   "cell_type": "code",
   "execution_count": 10,
   "metadata": {},
   "outputs": [
    {
     "data": {
      "text/plain": [
       "0.7401207464324918"
      ]
     },
     "execution_count": 10,
     "metadata": {},
     "output_type": "execute_result"
    }
   ],
   "source": [
    "x_test_scaled = scaler.transform(x_test)\n",
    "clf.score(x_test_scaled , y_test)"
   ]
  },
  {
   "cell_type": "code",
   "execution_count": 11,
   "metadata": {},
   "outputs": [],
   "source": [
    "scaler = StandardScaler()\n",
    "x_scaled = scaler.fit_transform(x)"
   ]
  },
  {
   "cell_type": "code",
   "execution_count": 158,
   "metadata": {},
   "outputs": [
    {
     "name": "stdout",
     "output_type": "stream",
     "text": [
      "Fitting 5 folds for each of 4 candidates, totalling 20 fits\n"
     ]
    },
    {
     "name": "stderr",
     "output_type": "stream",
     "text": [
      "[Parallel(n_jobs=5)]: Using backend LokyBackend with 5 concurrent workers.\n",
      "[Parallel(n_jobs=5)]: Done  20 out of  20 | elapsed:   22.2s finished\n"
     ]
    },
    {
     "data": {
      "text/plain": [
       "GridSearchCV(estimator=SVC(), n_jobs=5,\n",
       "             param_grid={'C': [0.001, 0.0008], 'gamma': [0.01, 0.05]},\n",
       "             verbose=2)"
      ]
     },
     "execution_count": 158,
     "metadata": {},
     "output_type": "execute_result"
    }
   ],
   "source": [
    "params = {\n",
    "    \"gamma\": [0.01 , 0.05],\n",
    "    \"C\": [0.001 , 0.0008]\n",
    "}\n",
    "tempclf = GridSearchCV(SVC() , params , n_jobs=5 , verbose=2)\n",
    "tempclf.fit(x_scaled , y)"
   ]
  },
  {
   "cell_type": "code",
   "execution_count": 179,
   "metadata": {},
   "outputs": [
    {
     "name": "stdout",
     "output_type": "stream",
     "text": [
      "SVC(C=0.001, gamma=0.01) 0.7428983166378433\n"
     ]
    }
   ],
   "source": [
    "print(tempclf.best_estimator_ , tempclf.best_score_)"
   ]
  },
  {
   "cell_type": "code",
   "execution_count": 12,
   "metadata": {},
   "outputs": [],
   "source": [
    "test = pd.read_csv(\"Test_data.txt\" , header=None , sep=\"\\n\")"
   ]
  },
  {
   "cell_type": "code",
   "execution_count": 13,
   "metadata": {},
   "outputs": [
    {
     "name": "stdout",
     "output_type": "stream",
     "text": [
      "NEWW\n",
      "NEWW\n",
      "NEWW\n",
      "NEWW\n"
     ]
    }
   ],
   "source": [
    "protein_test = []\n",
    "alphabet_test = []\n",
    "for i in range(len(test[0])) :\n",
    "    if test[0][i][0] == \">\":\n",
    "        key = test[0][i][1:-4]\n",
    "        for j in range(len(test[0][i+1])) :\n",
    "            if key not in map.keys() :\n",
    "                print(\"NEWW\")\n",
    "                map[key] = num\n",
    "                num += 1\n",
    "            protein_test.append(map[key])\n",
    "            alphabet_test.append(ord(test[0][i+1][j]))"
   ]
  },
  {
   "cell_type": "code",
   "execution_count": 14,
   "metadata": {},
   "outputs": [],
   "source": [
    "x_test = pd.DataFrame()\n",
    "x_test[\"protein\"] = protein_test\n",
    "x_test[\"alpha\"] = alphabet_test"
   ]
  },
  {
   "cell_type": "code",
   "execution_count": 15,
   "metadata": {},
   "outputs": [],
   "source": [
    "x_test_scaled= scaler.transform(x_test)"
   ]
  },
  {
   "cell_type": "code",
   "execution_count": 16,
   "metadata": {},
   "outputs": [
    {
     "data": {
      "text/plain": [
       "array(['0', '0', '0', ..., '0', '0', '0'], dtype='<U1')"
      ]
     },
     "execution_count": 16,
     "metadata": {},
     "output_type": "execute_result"
    }
   ],
   "source": [
    "clf = SVC(C=0.001, gamma=0.01)\n",
    "clf.fit(x_scaled , y)\n",
    "y_test = clf.predict(x_test_scaled)\n",
    "y_test"
   ]
  },
  {
   "cell_type": "code",
   "execution_count": 229,
   "metadata": {},
   "outputs": [
    {
     "data": {
      "text/html": [
       "<div>\n",
       "<style scoped>\n",
       "    .dataframe tbody tr th:only-of-type {\n",
       "        vertical-align: middle;\n",
       "    }\n",
       "\n",
       "    .dataframe tbody tr th {\n",
       "        vertical-align: top;\n",
       "    }\n",
       "\n",
       "    .dataframe thead th {\n",
       "        text-align: right;\n",
       "    }\n",
       "</style>\n",
       "<table border=\"1\" class=\"dataframe\">\n",
       "  <thead>\n",
       "    <tr style=\"text-align: right;\">\n",
       "      <th></th>\n",
       "      <th>Id</th>\n",
       "      <th>Expected</th>\n",
       "    </tr>\n",
       "  </thead>\n",
       "  <tbody>\n",
       "    <tr>\n",
       "      <th>0</th>\n",
       "      <td>0</td>\n",
       "      <td>0</td>\n",
       "    </tr>\n",
       "    <tr>\n",
       "      <th>1</th>\n",
       "      <td>1</td>\n",
       "      <td>0</td>\n",
       "    </tr>\n",
       "    <tr>\n",
       "      <th>2</th>\n",
       "      <td>2</td>\n",
       "      <td>0</td>\n",
       "    </tr>\n",
       "    <tr>\n",
       "      <th>3</th>\n",
       "      <td>3</td>\n",
       "      <td>0</td>\n",
       "    </tr>\n",
       "    <tr>\n",
       "      <th>4</th>\n",
       "      <td>4</td>\n",
       "      <td>0</td>\n",
       "    </tr>\n",
       "    <tr>\n",
       "      <th>...</th>\n",
       "      <td>...</td>\n",
       "      <td>...</td>\n",
       "    </tr>\n",
       "    <tr>\n",
       "      <th>5492</th>\n",
       "      <td>5492</td>\n",
       "      <td>0</td>\n",
       "    </tr>\n",
       "    <tr>\n",
       "      <th>5493</th>\n",
       "      <td>5493</td>\n",
       "      <td>0</td>\n",
       "    </tr>\n",
       "    <tr>\n",
       "      <th>5494</th>\n",
       "      <td>5494</td>\n",
       "      <td>0</td>\n",
       "    </tr>\n",
       "    <tr>\n",
       "      <th>5495</th>\n",
       "      <td>5495</td>\n",
       "      <td>0</td>\n",
       "    </tr>\n",
       "    <tr>\n",
       "      <th>5496</th>\n",
       "      <td>5496</td>\n",
       "      <td>0</td>\n",
       "    </tr>\n",
       "  </tbody>\n",
       "</table>\n",
       "<p>5497 rows × 2 columns</p>\n",
       "</div>"
      ],
      "text/plain": [
       "        Id Expected\n",
       "0        0        0\n",
       "1        1        0\n",
       "2        2        0\n",
       "3        3        0\n",
       "4        4        0\n",
       "...    ...      ...\n",
       "5492  5492        0\n",
       "5493  5493        0\n",
       "5494  5494        0\n",
       "5495  5495        0\n",
       "5496  5496        0\n",
       "\n",
       "[5497 rows x 2 columns]"
      ]
     },
     "execution_count": 229,
     "metadata": {},
     "output_type": "execute_result"
    }
   ],
   "source": [
    "soln = pd.DataFrame()\n",
    "soln[\"Id\"] = [i for i in range(5497)]\n",
    "soln[\"Expected\"] = y_test\n",
    "soln"
   ]
  },
  {
   "cell_type": "code",
   "execution_count": 17,
   "metadata": {},
   "outputs": [],
   "source": [
    "for i in y_test:\n",
    "    if i == \"1\":\n",
    "        print(\"OOO\")"
   ]
  },
  {
   "cell_type": "code",
   "execution_count": null,
   "metadata": {},
   "outputs": [],
   "source": []
  }
 ],
 "metadata": {
  "kernelspec": {
   "display_name": "venv",
   "language": "python",
   "name": "venv"
  },
  "language_info": {
   "codemirror_mode": {
    "name": "ipython",
    "version": 3
   },
   "file_extension": ".py",
   "mimetype": "text/x-python",
   "name": "python",
   "nbconvert_exporter": "python",
   "pygments_lexer": "ipython3",
   "version": "3.6.9"
  }
 },
 "nbformat": 4,
 "nbformat_minor": 4
}
