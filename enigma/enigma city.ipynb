{
 "cells": [
  {
   "cell_type": "code",
   "execution_count": 1,
   "metadata": {},
   "outputs": [],
   "source": [
    "import pandas as pd\n",
    "import numpy as np\n",
    "from sklearn.model_selection import train_test_split , GridSearchCV , KFold\n",
    "from sklearn.preprocessing import StandardScaler"
   ]
  },
  {
   "cell_type": "code",
   "execution_count": 139,
   "metadata": {},
   "outputs": [],
   "source": [
    "train = pd.read_csv(\"train.csv\")\n",
    "test = pd.read_csv(\"test.csv\")"
   ]
  },
  {
   "cell_type": "code",
   "execution_count": 140,
   "metadata": {},
   "outputs": [
    {
     "data": {
      "text/plain": [
       "array([2, 2, 1, 2, 1, 1, 2, 1, 1, 6, 1, 1, 1, 2, 1, 2, 2, 1, 2, 5, 7, 1,\n",
       "       1, 6, 2, 2, 3, 5, 2, 3, 2, 3, 5, 7, 2, 2, 1, 1, 1, 3, 3, 7, 2, 2,\n",
       "       2, 2, 2, 1, 2, 1, 2, 1, 7, 1, 3, 5, 3, 1, 2, 7, 1, 2, 2, 1, 1, 1,\n",
       "       3, 2, 3, 7, 2, 2, 2, 7, 1, 2, 1, 2, 1, 5, 6, 7, 1, 2, 7, 6, 7, 2,\n",
       "       7, 1, 2, 1, 6, 2, 3, 1, 2, 1, 1, 2, 1, 1, 2, 7, 1, 1, 2, 1, 7, 2,\n",
       "       2, 7, 2, 5, 5, 1, 5, 3, 5, 1, 3, 2, 5, 7, 2, 7, 7, 7, 1, 1, 2, 1,\n",
       "       1, 2, 2])"
      ]
     },
     "execution_count": 140,
     "metadata": {},
     "output_type": "execute_result"
    }
   ],
   "source": [
    "train.drop(\"Id\" , axis=1 , inplace=True)\n",
    "train.head()\n",
    "train[\"city\"].values"
   ]
  },
  {
   "cell_type": "code",
   "execution_count": 142,
   "metadata": {},
   "outputs": [
    {
     "data": {
      "text/plain": [
       "(array([[1.51662e+00, 1.28500e+01, 3.51000e+00, 1.44000e+00, 7.30100e+01,\n",
       "         6.80000e-01, 8.23000e+00],\n",
       "        [1.52614e+00, 1.37000e+01, 0.00000e+00, 1.36000e+00, 7.12400e+01,\n",
       "         1.90000e-01, 1.34400e+01],\n",
       "        [1.51747e+00, 1.28400e+01, 3.50000e+00, 1.14000e+00, 7.32700e+01,\n",
       "         5.60000e-01, 8.55000e+00],\n",
       "        [1.51590e+00, 1.28200e+01, 3.52000e+00, 1.90000e+00, 7.28600e+01,\n",
       "         6.90000e-01, 7.97000e+00],\n",
       "        [1.51768e+00, 1.26500e+01, 3.56000e+00, 1.30000e+00, 7.30800e+01,\n",
       "         6.10000e-01, 8.69000e+00],\n",
       "        [1.51766e+00, 1.32100e+01, 3.69000e+00, 1.29000e+00, 7.26100e+01,\n",
       "         5.70000e-01, 8.22000e+00],\n",
       "        [1.51574e+00, 1.48600e+01, 3.67000e+00, 1.74000e+00, 7.18700e+01,\n",
       "         1.60000e-01, 7.36000e+00],\n",
       "        [1.52213e+00, 1.42100e+01, 3.82000e+00, 4.70000e-01, 7.17700e+01,\n",
       "         1.10000e-01, 9.57000e+00],\n",
       "        [1.51761e+00, 1.28100e+01, 3.54000e+00, 1.23000e+00, 7.32400e+01,\n",
       "         5.80000e-01, 8.39000e+00],\n",
       "        [1.51829e+00, 1.44600e+01, 2.24000e+00, 1.62000e+00, 7.23800e+01,\n",
       "         0.00000e+00, 9.26000e+00],\n",
       "        [1.51793e+00, 1.27900e+01, 3.50000e+00, 1.12000e+00, 7.30300e+01,\n",
       "         6.40000e-01, 8.77000e+00],\n",
       "        [1.51754e+00, 1.34800e+01, 3.74000e+00, 1.17000e+00, 7.29900e+01,\n",
       "         5.90000e-01, 8.03000e+00],\n",
       "        [1.51761e+00, 1.38900e+01, 3.60000e+00, 1.36000e+00, 7.27300e+01,\n",
       "         4.80000e-01, 7.83000e+00],\n",
       "        [1.51596e+00, 1.30200e+01, 3.56000e+00, 1.54000e+00, 7.31100e+01,\n",
       "         7.20000e-01, 7.90000e+00],\n",
       "        [1.51742e+00, 1.32700e+01, 3.62000e+00, 1.24000e+00, 7.30800e+01,\n",
       "         5.50000e-01, 8.07000e+00],\n",
       "        [1.51708e+00, 1.37200e+01, 3.68000e+00, 1.81000e+00, 7.20600e+01,\n",
       "         6.40000e-01, 7.88000e+00],\n",
       "        [1.52068e+00, 1.35500e+01, 2.09000e+00, 1.67000e+00, 7.21800e+01,\n",
       "         5.30000e-01, 9.57000e+00],\n",
       "        [1.51756e+00, 1.31500e+01, 3.61000e+00, 1.05000e+00, 7.32400e+01,\n",
       "         5.70000e-01, 8.24000e+00],\n",
       "        [1.51687e+00, 1.32300e+01, 3.54000e+00, 1.48000e+00, 7.28400e+01,\n",
       "         5.60000e-01, 8.10000e+00],\n",
       "        [1.51994e+00, 1.32700e+01, 0.00000e+00, 1.76000e+00, 7.30300e+01,\n",
       "         4.70000e-01, 1.13200e+01],\n",
       "        [1.51508e+00, 1.51500e+01, 0.00000e+00, 2.25000e+00, 7.35000e+01,\n",
       "         0.00000e+00, 8.34000e+00],\n",
       "        [1.51784e+00, 1.26800e+01, 3.67000e+00, 1.16000e+00, 7.31100e+01,\n",
       "         6.10000e-01, 8.70000e+00],\n",
       "        [1.51589e+00, 1.28800e+01, 3.43000e+00, 1.40000e+00, 7.32800e+01,\n",
       "         6.90000e-01, 8.05000e+00],\n",
       "        [1.51852e+00, 1.40900e+01, 2.19000e+00, 1.66000e+00, 7.26700e+01,\n",
       "         0.00000e+00, 9.32000e+00],\n",
       "        [1.51707e+00, 1.34800e+01, 3.48000e+00, 1.71000e+00, 7.25200e+01,\n",
       "         6.20000e-01, 7.99000e+00],\n",
       "        [1.52725e+00, 1.38000e+01, 3.15000e+00, 6.60000e-01, 7.05700e+01,\n",
       "         8.00000e-02, 1.16400e+01],\n",
       "        [1.51796e+00, 1.35000e+01, 3.36000e+00, 1.63000e+00, 7.19400e+01,\n",
       "         5.70000e-01, 8.81000e+00],\n",
       "        [1.51666e+00, 1.28600e+01, 0.00000e+00, 1.83000e+00, 7.38800e+01,\n",
       "         9.70000e-01, 1.01700e+01],\n",
       "        [1.51860e+00, 1.33600e+01, 3.43000e+00, 1.43000e+00, 7.22600e+01,\n",
       "         5.10000e-01, 8.60000e+00],\n",
       "        [1.51832e+00, 1.33300e+01, 3.34000e+00, 1.54000e+00, 7.21400e+01,\n",
       "         5.60000e-01, 8.99000e+00],\n",
       "        [1.51667e+00, 1.29400e+01, 3.61000e+00, 1.26000e+00, 7.27500e+01,\n",
       "         5.60000e-01, 8.60000e+00],\n",
       "        [1.52211e+00, 1.41900e+01, 3.78000e+00, 9.10000e-01, 7.13600e+01,\n",
       "         2.30000e-01, 9.14000e+00],\n",
       "        [1.52043e+00, 1.33800e+01, 0.00000e+00, 1.40000e+00, 7.22500e+01,\n",
       "         3.30000e-01, 1.25000e+01],\n",
       "        [1.51545e+00, 1.41400e+01, 0.00000e+00, 2.68000e+00, 7.33900e+01,\n",
       "         8.00000e-02, 9.07000e+00],\n",
       "        [1.51847e+00, 1.31000e+01, 3.97000e+00, 1.19000e+00, 7.24400e+01,\n",
       "         6.00000e-01, 8.43000e+00],\n",
       "        [1.51841e+00, 1.30200e+01, 3.62000e+00, 1.06000e+00, 7.23400e+01,\n",
       "         6.40000e-01, 9.13000e+00],\n",
       "        [1.51763e+00, 1.28000e+01, 3.66000e+00, 1.27000e+00, 7.30100e+01,\n",
       "         6.00000e-01, 8.56000e+00],\n",
       "        [1.52320e+00, 1.37200e+01, 3.72000e+00, 5.10000e-01, 7.17500e+01,\n",
       "         9.00000e-02, 1.00600e+01],\n",
       "        [1.51754e+00, 1.33900e+01, 3.66000e+00, 1.19000e+00, 7.27900e+01,\n",
       "         5.70000e-01, 8.27000e+00],\n",
       "        [1.51610e+00, 1.33300e+01, 3.53000e+00, 1.34000e+00, 7.26700e+01,\n",
       "         5.60000e-01, 8.33000e+00],\n",
       "        [1.51776e+00, 1.35300e+01, 3.41000e+00, 1.52000e+00, 7.20400e+01,\n",
       "         5.80000e-01, 8.79000e+00],\n",
       "        [1.51831e+00, 1.43900e+01, 0.00000e+00, 1.82000e+00, 7.28600e+01,\n",
       "         1.41000e+00, 6.47000e+00],\n",
       "        [1.51818e+00, 1.37200e+01, 0.00000e+00, 5.60000e-01, 7.44500e+01,\n",
       "         0.00000e+00, 1.09900e+01],\n",
       "        [1.51800e+00, 1.37100e+01, 3.93000e+00, 1.54000e+00, 7.18100e+01,\n",
       "         5.40000e-01, 8.21000e+00],\n",
       "        [1.51829e+00, 1.32400e+01, 3.90000e+00, 1.41000e+00, 7.23300e+01,\n",
       "         5.50000e-01, 8.31000e+00],\n",
       "        [1.51629e+00, 1.27100e+01, 3.33000e+00, 1.49000e+00, 7.32800e+01,\n",
       "         6.70000e-01, 8.24000e+00],\n",
       "        [1.51660e+00, 1.29900e+01, 3.18000e+00, 1.23000e+00, 7.29700e+01,\n",
       "         5.80000e-01, 8.81000e+00],\n",
       "        [1.52152e+00, 1.30500e+01, 3.65000e+00, 8.70000e-01, 7.22200e+01,\n",
       "         1.90000e-01, 9.85000e+00],\n",
       "        [1.51590e+00, 1.32400e+01, 3.34000e+00, 1.47000e+00, 7.31000e+01,\n",
       "         3.90000e-01, 8.22000e+00],\n",
       "        [1.51911e+00, 1.39000e+01, 3.73000e+00, 1.18000e+00, 7.21200e+01,\n",
       "         6.00000e-02, 8.89000e+00],\n",
       "        [1.52020e+00, 1.39800e+01, 1.35000e+00, 1.63000e+00, 7.17600e+01,\n",
       "         3.90000e-01, 1.05600e+01],\n",
       "        [1.52227e+00, 1.41700e+01, 3.81000e+00, 7.80000e-01, 7.13500e+01,\n",
       "         0.00000e+00, 9.69000e+00],\n",
       "        [1.51602e+00, 1.48500e+01, 0.00000e+00, 2.38000e+00, 7.32800e+01,\n",
       "         0.00000e+00, 8.76000e+00],\n",
       "        [1.52223e+00, 1.32100e+01, 3.77000e+00, 7.90000e-01, 7.19900e+01,\n",
       "         1.30000e-01, 1.00200e+01],\n",
       "        [1.51646e+00, 1.30400e+01, 3.40000e+00, 1.26000e+00, 7.30100e+01,\n",
       "         5.20000e-01, 8.58000e+00],\n",
       "        [1.51915e+00, 1.27300e+01, 1.85000e+00, 1.86000e+00, 7.26900e+01,\n",
       "         6.00000e-01, 1.00900e+01],\n",
       "        [1.52121e+00, 1.40300e+01, 3.76000e+00, 5.80000e-01, 7.17900e+01,\n",
       "         1.10000e-01, 9.65000e+00],\n",
       "        [1.52172e+00, 1.35100e+01, 3.86000e+00, 8.80000e-01, 7.17900e+01,\n",
       "         2.30000e-01, 9.54000e+00],\n",
       "        [1.51839e+00, 1.28500e+01, 3.67000e+00, 1.24000e+00, 7.25700e+01,\n",
       "         6.20000e-01, 8.68000e+00],\n",
       "        [1.51653e+00, 1.19500e+01, 0.00000e+00, 1.19000e+00, 7.51800e+01,\n",
       "         2.70000e+00, 8.93000e+00],\n",
       "        [1.51784e+00, 1.30800e+01, 3.49000e+00, 1.28000e+00, 7.28600e+01,\n",
       "         6.00000e-01, 8.49000e+00],\n",
       "        [1.51631e+00, 1.33400e+01, 3.57000e+00, 1.57000e+00, 7.28700e+01,\n",
       "         6.10000e-01, 7.89000e+00],\n",
       "        [1.52410e+00, 1.38300e+01, 2.90000e+00, 1.17000e+00, 7.11500e+01,\n",
       "         8.00000e-02, 1.07900e+01],\n",
       "        [1.51763e+00, 1.26100e+01, 3.59000e+00, 1.31000e+00, 7.32900e+01,\n",
       "         5.80000e-01, 8.50000e+00],\n",
       "        [1.51764e+00, 1.29800e+01, 3.54000e+00, 1.21000e+00, 7.30000e+01,\n",
       "         6.50000e-01, 8.53000e+00],\n",
       "        [1.51721e+00, 1.28700e+01, 3.48000e+00, 1.33000e+00, 7.30400e+01,\n",
       "         5.60000e-01, 8.43000e+00],\n",
       "        [1.51694e+00, 1.28600e+01, 3.58000e+00, 1.31000e+00, 7.26100e+01,\n",
       "         6.10000e-01, 8.79000e+00],\n",
       "        [1.51645e+00, 1.34400e+01, 3.61000e+00, 1.54000e+00, 7.23900e+01,\n",
       "         6.60000e-01, 8.03000e+00],\n",
       "        [1.52127e+00, 1.43200e+01, 3.90000e+00, 8.30000e-01, 7.15000e+01,\n",
       "         0.00000e+00, 9.49000e+00],\n",
       "        [1.51732e+00, 1.49500e+01, 0.00000e+00, 1.80000e+00, 7.29900e+01,\n",
       "         0.00000e+00, 8.61000e+00],\n",
       "        [1.51627e+00, 1.30000e+01, 3.58000e+00, 1.54000e+00, 7.28300e+01,\n",
       "         6.10000e-01, 8.04000e+00],\n",
       "        [1.51663e+00, 1.29300e+01, 3.54000e+00, 1.62000e+00, 7.29600e+01,\n",
       "         6.40000e-01, 8.03000e+00],\n",
       "        [1.51844e+00, 1.32500e+01, 3.76000e+00, 1.32000e+00, 7.24000e+01,\n",
       "         5.80000e-01, 8.42000e+00],\n",
       "        [1.51623e+00, 1.41400e+01, 0.00000e+00, 2.88000e+00, 7.26100e+01,\n",
       "         8.00000e-02, 9.18000e+00],\n",
       "        [1.51720e+00, 1.33800e+01, 3.50000e+00, 1.15000e+00, 7.28500e+01,\n",
       "         5.00000e-01, 8.43000e+00],\n",
       "        [1.51593e+00, 1.30900e+01, 3.59000e+00, 1.52000e+00, 7.31000e+01,\n",
       "         6.70000e-01, 7.83000e+00],\n",
       "        [1.52099e+00, 1.36900e+01, 3.59000e+00, 1.12000e+00, 7.19600e+01,\n",
       "         9.00000e-02, 9.40000e+00],\n",
       "        [1.51730e+00, 1.23500e+01, 2.72000e+00, 1.63000e+00, 7.28700e+01,\n",
       "         7.00000e-01, 9.23000e+00],\n",
       "        [1.51909e+00, 1.38900e+01, 3.53000e+00, 1.32000e+00, 7.18100e+01,\n",
       "         5.10000e-01, 8.78000e+00],\n",
       "        [1.51316e+00, 1.30200e+01, 0.00000e+00, 3.04000e+00, 7.04800e+01,\n",
       "         6.21000e+00, 6.96000e+00],\n",
       "        [1.51888e+00, 1.49900e+01, 7.80000e-01, 1.74000e+00, 7.25000e+01,\n",
       "         0.00000e+00, 9.95000e+00],\n",
       "        [1.51651e+00, 1.43800e+01, 0.00000e+00, 1.94000e+00, 7.36100e+01,\n",
       "         0.00000e+00, 8.48000e+00],\n",
       "        [1.52152e+00, 1.30500e+01, 3.65000e+00, 8.70000e-01, 7.23200e+01,\n",
       "         1.90000e-01, 9.85000e+00],\n",
       "        [1.51841e+00, 1.29300e+01, 3.74000e+00, 1.11000e+00, 7.22800e+01,\n",
       "         6.40000e-01, 8.96000e+00],\n",
       "        [1.51640e+00, 1.43700e+01, 0.00000e+00, 2.74000e+00, 7.28500e+01,\n",
       "         0.00000e+00, 9.45000e+00],\n",
       "        [1.51916e+00, 1.41500e+01, 0.00000e+00, 2.09000e+00, 7.27400e+01,\n",
       "         0.00000e+00, 1.08800e+01],\n",
       "        [1.51617e+00, 1.49500e+01, 0.00000e+00, 2.27000e+00, 7.33000e+01,\n",
       "         0.00000e+00, 8.71000e+00],\n",
       "        [1.51711e+00, 1.28900e+01, 3.62000e+00, 1.57000e+00, 7.29600e+01,\n",
       "         6.10000e-01, 8.11000e+00],\n",
       "        [1.51613e+00, 1.38800e+01, 1.78000e+00, 1.79000e+00, 7.31000e+01,\n",
       "         0.00000e+00, 8.67000e+00],\n",
       "        [1.51779e+00, 1.32100e+01, 3.39000e+00, 1.33000e+00, 7.27600e+01,\n",
       "         5.90000e-01, 8.59000e+00],\n",
       "        [1.52739e+00, 1.10200e+01, 0.00000e+00, 7.50000e-01, 7.30800e+01,\n",
       "         0.00000e+00, 1.49600e+01],\n",
       "        [1.51768e+00, 1.25600e+01, 3.52000e+00, 1.43000e+00, 7.31500e+01,\n",
       "         5.70000e-01, 8.54000e+00],\n",
       "        [1.51115e+00, 1.73800e+01, 0.00000e+00, 3.40000e-01, 7.54100e+01,\n",
       "         0.00000e+00, 6.65000e+00],\n",
       "        [1.51846e+00, 1.34100e+01, 3.89000e+00, 1.33000e+00, 7.23800e+01,\n",
       "         5.10000e-01, 8.28000e+00],\n",
       "        [1.51769e+00, 1.36500e+01, 3.66000e+00, 1.11000e+00, 7.27700e+01,\n",
       "         1.10000e-01, 8.60000e+00],\n",
       "        [1.51735e+00, 1.30200e+01, 3.54000e+00, 1.69000e+00, 7.27300e+01,\n",
       "         5.40000e-01, 8.44000e+00],\n",
       "        [1.51709e+00, 1.30000e+01, 3.47000e+00, 1.79000e+00, 7.27200e+01,\n",
       "         6.60000e-01, 8.18000e+00],\n",
       "        [1.51751e+00, 1.28100e+01, 3.57000e+00, 1.35000e+00, 7.30200e+01,\n",
       "         6.20000e-01, 8.59000e+00],\n",
       "        [1.51869e+00, 1.31900e+01, 3.37000e+00, 1.18000e+00, 7.27200e+01,\n",
       "         5.70000e-01, 8.83000e+00],\n",
       "        [1.51605e+00, 1.29000e+01, 3.44000e+00, 1.45000e+00, 7.30600e+01,\n",
       "         4.40000e-01, 8.27000e+00],\n",
       "        [1.51977e+00, 1.38100e+01, 3.58000e+00, 1.32000e+00, 7.17200e+01,\n",
       "         1.20000e-01, 8.67000e+00],\n",
       "        [1.51966e+00, 1.47700e+01, 3.75000e+00, 2.90000e-01, 7.20200e+01,\n",
       "         3.00000e-02, 9.00000e+00],\n",
       "        [1.51613e+00, 1.39200e+01, 3.52000e+00, 1.25000e+00, 7.28800e+01,\n",
       "         3.70000e-01, 7.94000e+00],\n",
       "        [1.51685e+00, 1.49200e+01, 0.00000e+00, 1.99000e+00, 7.30600e+01,\n",
       "         0.00000e+00, 8.40000e+00],\n",
       "        [1.52667e+00, 1.39900e+01, 3.70000e+00, 7.10000e-01, 7.15700e+01,\n",
       "         2.00000e-02, 9.82000e+00],\n",
       "        [1.51769e+00, 1.24500e+01, 2.71000e+00, 1.29000e+00, 7.37000e+01,\n",
       "         5.60000e-01, 9.06000e+00],\n",
       "        [1.51851e+00, 1.32000e+01, 3.63000e+00, 1.07000e+00, 7.28300e+01,\n",
       "         5.70000e-01, 8.41000e+00],\n",
       "        [1.51618e+00, 1.35300e+01, 3.55000e+00, 1.54000e+00, 7.29900e+01,\n",
       "         3.90000e-01, 7.78000e+00],\n",
       "        [1.51609e+00, 1.50100e+01, 0.00000e+00, 2.51000e+00, 7.30500e+01,\n",
       "         5.00000e-02, 8.83000e+00],\n",
       "        [1.51652e+00, 1.35600e+01, 3.57000e+00, 1.47000e+00, 7.24500e+01,\n",
       "         6.40000e-01, 7.96000e+00],\n",
       "        [1.52177e+00, 1.32000e+01, 3.68000e+00, 1.15000e+00, 7.27500e+01,\n",
       "         5.40000e-01, 8.52000e+00],\n",
       "        [1.51531e+00, 1.43800e+01, 0.00000e+00, 2.66000e+00, 7.31000e+01,\n",
       "         4.00000e-02, 9.08000e+00],\n",
       "        [1.51674e+00, 1.27900e+01, 3.52000e+00, 1.54000e+00, 7.33600e+01,\n",
       "         6.60000e-01, 7.90000e+00],\n",
       "        [1.52058e+00, 1.28500e+01, 1.61000e+00, 2.17000e+00, 7.21800e+01,\n",
       "         7.60000e-01, 9.70000e+00],\n",
       "        [1.51514e+00, 1.40100e+01, 2.68000e+00, 3.50000e+00, 6.98900e+01,\n",
       "         1.68000e+00, 5.87000e+00],\n",
       "        [1.51567e+00, 1.32900e+01, 3.45000e+00, 1.21000e+00, 7.27400e+01,\n",
       "         5.60000e-01, 8.57000e+00],\n",
       "        [1.52119e+00, 1.29700e+01, 3.30000e-01, 1.51000e+00, 7.33900e+01,\n",
       "         1.30000e-01, 1.12700e+01],\n",
       "        [1.51779e+00, 1.36400e+01, 3.65000e+00, 6.50000e-01, 7.30000e+01,\n",
       "         6.00000e-02, 8.93000e+00],\n",
       "        [1.51969e+00, 1.26400e+01, 0.00000e+00, 1.65000e+00, 7.37500e+01,\n",
       "         3.80000e-01, 1.15300e+01],\n",
       "        [1.51215e+00, 1.29900e+01, 3.47000e+00, 1.12000e+00, 7.29800e+01,\n",
       "         6.20000e-01, 8.35000e+00],\n",
       "        [1.51934e+00, 1.36400e+01, 3.54000e+00, 7.50000e-01, 7.26500e+01,\n",
       "         1.60000e-01, 8.89000e+00],\n",
       "        [1.51655e+00, 1.27500e+01, 2.85000e+00, 1.44000e+00, 7.32700e+01,\n",
       "         5.70000e-01, 8.79000e+00],\n",
       "        [1.52171e+00, 1.15600e+01, 1.88000e+00, 1.56000e+00, 7.28600e+01,\n",
       "         4.70000e-01, 1.14100e+01],\n",
       "        [1.52247e+00, 1.48600e+01, 2.20000e+00, 2.06000e+00, 7.02600e+01,\n",
       "         7.60000e-01, 9.76000e+00],\n",
       "        [1.51690e+00, 1.33300e+01, 3.54000e+00, 1.61000e+00, 7.25400e+01,\n",
       "         6.80000e-01, 8.11000e+00],\n",
       "        [1.51131e+00, 1.36900e+01, 3.20000e+00, 1.81000e+00, 7.28100e+01,\n",
       "         1.76000e+00, 5.43000e+00],\n",
       "        [1.51556e+00, 1.38700e+01, 0.00000e+00, 2.54000e+00, 7.32300e+01,\n",
       "         1.40000e-01, 9.41000e+00],\n",
       "        [1.51623e+00, 1.42000e+01, 0.00000e+00, 2.79000e+00, 7.34600e+01,\n",
       "         4.00000e-02, 9.04000e+00],\n",
       "        [1.51824e+00, 1.28700e+01, 3.48000e+00, 1.29000e+00, 7.29500e+01,\n",
       "         6.00000e-01, 8.43000e+00],\n",
       "        [1.51736e+00, 1.27800e+01, 3.62000e+00, 1.29000e+00, 7.27900e+01,\n",
       "         5.90000e-01, 8.70000e+00],\n",
       "        [1.52664e+00, 1.12300e+01, 0.00000e+00, 7.70000e-01, 7.32100e+01,\n",
       "         0.00000e+00, 1.46800e+01],\n",
       "        [1.52213e+00, 1.42100e+01, 3.82000e+00, 4.70000e-01, 7.17700e+01,\n",
       "         1.10000e-01, 9.57000e+00],\n",
       "        [1.51571e+00, 1.27200e+01, 3.46000e+00, 1.56000e+00, 7.32000e+01,\n",
       "         6.70000e-01, 8.09000e+00],\n",
       "        [1.52475e+00, 1.14500e+01, 0.00000e+00, 1.88000e+00, 7.21900e+01,\n",
       "         8.10000e-01, 1.32400e+01],\n",
       "        [1.51811e+00, 1.33300e+01, 3.85000e+00, 1.25000e+00, 7.27800e+01,\n",
       "         5.20000e-01, 8.12000e+00]]),\n",
       " 0      2\n",
       " 1      2\n",
       " 2      1\n",
       " 3      2\n",
       " 4      1\n",
       "       ..\n",
       " 130    2\n",
       " 131    1\n",
       " 132    1\n",
       " 133    2\n",
       " 134    2\n",
       " Name: city, Length: 135, dtype: int64)"
      ]
     },
     "execution_count": 142,
     "metadata": {},
     "output_type": "execute_result"
    }
   ],
   "source": [
    "x = train.drop(\"city\" , axis=1)\n",
    "y = train.city\n",
    "sca = StandardScaler()\n",
    "x = np.array(x)\n",
    "x , y"
   ]
  },
  {
   "cell_type": "code",
   "execution_count": 175,
   "metadata": {},
   "outputs": [],
   "source": [
    "from sklearn.svm import SVC\n",
    "from sklearn.ensemble import RandomForestClassifier , AdaBoostClassifier\n",
    "from sklearn.tree import DecisionTreeClassifier"
   ]
  },
  {
   "cell_type": "code",
   "execution_count": 166,
   "metadata": {},
   "outputs": [
    {
     "name": "stdout",
     "output_type": "stream",
     "text": [
      "Fitting 3 folds for each of 9 candidates, totalling 27 fits\n"
     ]
    },
    {
     "name": "stderr",
     "output_type": "stream",
     "text": [
      "[Parallel(n_jobs=1)]: Using backend SequentialBackend with 1 concurrent workers.\n",
      "[Parallel(n_jobs=1)]: Done  27 out of  27 | elapsed:    0.2s finished\n"
     ]
    },
    {
     "data": {
      "text/plain": [
       "(SVC(C=1.2, gamma=0.24), 0.6518518518518518)"
      ]
     },
     "execution_count": 166,
     "metadata": {},
     "output_type": "execute_result"
    }
   ],
   "source": [
    "grid_params = {\n",
    "    \"C\": [1.2 , 1.25 , 1.4],\n",
    "    \"gamma\": [0.2 , 0.23 , 0.24]\n",
    "}\n",
    "grid = GridSearchCV(SVC() , grid_params , cv=KFold(n_splits=3 , shuffle=True) , verbose=1)\n",
    "grid.fit(x , y)\n",
    "grid.best_estimator_ , grid.best_score_"
   ]
  },
  {
   "cell_type": "code",
   "execution_count": 160,
   "metadata": {},
   "outputs": [
    {
     "name": "stdout",
     "output_type": "stream",
     "text": [
      "Fitting 2 folds for each of 1 candidates, totalling 2 fits\n"
     ]
    },
    {
     "name": "stderr",
     "output_type": "stream",
     "text": [
      "[Parallel(n_jobs=1)]: Using backend SequentialBackend with 1 concurrent workers.\n",
      "[Parallel(n_jobs=1)]: Done   2 out of   2 | elapsed:    0.0s finished\n"
     ]
    },
    {
     "data": {
      "text/plain": [
       "(DecisionTreeClassifier(), 0.5406057945566286)"
      ]
     },
     "execution_count": 160,
     "metadata": {},
     "output_type": "execute_result"
    }
   ],
   "source": [
    "grid_params = {\n",
    "    \"max_depth\": [8,9,10,11,12],\n",
    "    \"min_samples_split\": [2,3],\n",
    "    \"criterion\": [\"gini\" , \"entropy\"]\n",
    "}\n",
    "grid = GridSearchCV(RandomForestClassifier() , grid_params , cv=KFold(n_splits=2 , shuffle=True) , verbose=1)\n",
    "grid.fit(x , y)\n",
    "grid.best_estimator_ , grid.best_score_"
   ]
  },
  {
   "cell_type": "code",
   "execution_count": 170,
   "metadata": {},
   "outputs": [
    {
     "name": "stdout",
     "output_type": "stream",
     "text": [
      "Fitting 3 folds for each of 96 candidates, totalling 288 fits\n"
     ]
    },
    {
     "name": "stderr",
     "output_type": "stream",
     "text": [
      "[Parallel(n_jobs=1)]: Using backend SequentialBackend with 1 concurrent workers.\n",
      "[Parallel(n_jobs=1)]: Done 288 out of 288 | elapsed:    0.8s finished\n"
     ]
    },
    {
     "data": {
      "text/plain": [
       "(DecisionTreeClassifier(criterion='entropy', max_depth=11, min_samples_split=3,\n",
       "                        splitter='random'),\n",
       " 0.6666666666666666)"
      ]
     },
     "execution_count": 170,
     "metadata": {},
     "output_type": "execute_result"
    }
   ],
   "source": [
    "grid_params = {\n",
    "    \"max_depth\": [10,11,12,13,14,15],\n",
    "    \"min_samples_split\": [2,3,4,5],\n",
    "    \"criterion\": [\"gini\" , \"entropy\"],\n",
    "    \"splitter\": [\"best\",\"random\"]\n",
    "}\n",
    "grid = GridSearchCV(DecisionTreeClassifier() , grid_params , cv=KFold(n_splits=3 , shuffle=True) , verbose=1)\n",
    "grid.fit(x , y)\n",
    "grid.best_estimator_ , grid.best_score_"
   ]
  },
  {
   "cell_type": "code",
   "execution_count": 154,
   "metadata": {},
   "outputs": [],
   "source": [
    "clf = RandomForestClassifier(criterion='entropy', max_depth=9)\n",
    "clf.fit(x , y)\n",
    "x_test = test.drop(\"Id\" , axis=1)\n",
    "x_test = sca.transform(x_test)\n",
    "y_pred = clf.predict(x_test)"
   ]
  },
  {
   "cell_type": "code",
   "execution_count": 194,
   "metadata": {},
   "outputs": [],
   "source": [
    "sub = pd.DataFrame()\n",
    "sub[\"Id\"] = test.Id\n",
    "sub[\"city\"] = y_pred"
   ]
  },
  {
   "cell_type": "code",
   "execution_count": 195,
   "metadata": {},
   "outputs": [],
   "source": [
    "sub.to_csv(\"submisson.csv\" , index=False)"
   ]
  },
  {
   "cell_type": "code",
   "execution_count": 192,
   "metadata": {},
   "outputs": [
    {
     "name": "stdout",
     "output_type": "stream",
     "text": [
      "Fitting 3 folds for each of 320 candidates, totalling 960 fits\n"
     ]
    },
    {
     "name": "stderr",
     "output_type": "stream",
     "text": [
      "[Parallel(n_jobs=1)]: Using backend SequentialBackend with 1 concurrent workers.\n",
      "[Parallel(n_jobs=1)]: Done 960 out of 960 | elapsed:    5.0s finished\n"
     ]
    },
    {
     "data": {
      "text/plain": [
       "(KNeighborsClassifier(algorithm='brute', leaf_size=3, n_neighbors=1, p=1),\n",
       " 0.7555555555555555)"
      ]
     },
     "execution_count": 192,
     "metadata": {},
     "output_type": "execute_result"
    }
   ],
   "source": [
    "from sklearn.neighbors import KNeighborsClassifier\n",
    "\n",
    "grid_params = {\n",
    "    \"n_neighbors\": [1,2,3,4,5],\n",
    "    \"algorithm\": [\"brute\",\"auto\"],\n",
    "    \"weights\": [\"uniform\" , \"distance\"],\n",
    "    \"p\":[1,2,3,4],\n",
    "    \"leaf_size\":[3,6,7,10]\n",
    "}\n",
    "grid = GridSearchCV(KNeighborsClassifier() , grid_params , cv=KFold(n_splits=3 , shuffle=True) , verbose=1)\n",
    "grid.fit(x , y)\n",
    "grid.best_estimator_ , grid.best_score_"
   ]
  },
  {
   "cell_type": "code",
   "execution_count": 193,
   "metadata": {},
   "outputs": [],
   "source": [
    "clf = KNeighborsClassifier(algorithm='brute', leaf_size=3, n_neighbors=1, p=1)\n",
    "clf.fit(x , y)\n",
    "x_test = test.drop(\"Id\" , axis=1)\n",
    "x_test = sca.transform(x_test)\n",
    "y_pred = clf.predict(x_test)"
   ]
  },
  {
   "cell_type": "markdown",
   "metadata": {},
   "source": [
    "### trying neural nets"
   ]
  },
  {
   "cell_type": "code",
   "execution_count": 35,
   "metadata": {},
   "outputs": [],
   "source": [
    "import tensorflow as tf\n",
    "from keras.models import Sequential\n",
    "from keras.layers import Dense\n",
    "from keras.utils import to_categorical"
   ]
  },
  {
   "cell_type": "code",
   "execution_count": 39,
   "metadata": {},
   "outputs": [
    {
     "data": {
      "text/plain": [
       "(     estimated blast radius(km)  temperature(C)  \\\n",
       " 0                       1.51662           12.85   \n",
       " 1                       1.52614           13.70   \n",
       " 2                       1.51747           12.84   \n",
       " 3                       1.51590           12.82   \n",
       " 4                       1.51768           12.65   \n",
       " ..                          ...             ...   \n",
       " 130                     1.52664           11.23   \n",
       " 131                     1.52213           14.21   \n",
       " 132                     1.51571           12.72   \n",
       " 133                     1.52475           11.45   \n",
       " 134                     1.51811           13.33   \n",
       " \n",
       "      distance from nearest carrier(nm)  military-to-civilian ratio  \\\n",
       " 0                                 3.51                        1.44   \n",
       " 1                                 0.00                        1.36   \n",
       " 2                                 3.50                        1.14   \n",
       " 3                                 3.52                        1.90   \n",
       " 4                                 3.56                        1.30   \n",
       " ..                                 ...                         ...   \n",
       " 130                               0.00                        0.77   \n",
       " 131                               3.82                        0.47   \n",
       " 132                               3.46                        1.56   \n",
       " 133                               0.00                        1.88   \n",
       " 134                               3.85                        1.25   \n",
       " \n",
       "      population density  relative humidity  squadron strength  \n",
       " 0                 73.01               0.68               8.23  \n",
       " 1                 71.24               0.19              13.44  \n",
       " 2                 73.27               0.56               8.55  \n",
       " 3                 72.86               0.69               7.97  \n",
       " 4                 73.08               0.61               8.69  \n",
       " ..                  ...                ...                ...  \n",
       " 130               73.21               0.00              14.68  \n",
       " 131               71.77               0.11               9.57  \n",
       " 132               73.20               0.67               8.09  \n",
       " 133               72.19               0.81              13.24  \n",
       " 134               72.78               0.52               8.12  \n",
       " \n",
       " [135 rows x 7 columns],\n",
       " 0      2\n",
       " 1      2\n",
       " 2      1\n",
       " 3      2\n",
       " 4      1\n",
       "       ..\n",
       " 130    2\n",
       " 131    1\n",
       " 132    1\n",
       " 133    2\n",
       " 134    2\n",
       " Name: city, Length: 135, dtype: int64)"
      ]
     },
     "execution_count": 39,
     "metadata": {},
     "output_type": "execute_result"
    }
   ],
   "source": [
    "train = pd.read_csv(\"train.csv\")\n",
    "test = pd.read_csv(\"test.csv\")\n",
    "\n",
    "x = train.drop([\"Id\" , \"city\"] , axis=1)\n",
    "y = train.city\n",
    "x , y"
   ]
  },
  {
   "cell_type": "code",
   "execution_count": 41,
   "metadata": {},
   "outputs": [
    {
     "data": {
      "text/plain": [
       "94     3\n",
       "88     7\n",
       "26     3\n",
       "58     2\n",
       "71     2\n",
       "      ..\n",
       "101    1\n",
       "12     1\n",
       "53     1\n",
       "76     1\n",
       "41     7\n",
       "Name: city, Length: 101, dtype: int64"
      ]
     },
     "execution_count": 41,
     "metadata": {},
     "output_type": "execute_result"
    }
   ],
   "source": [
    "\n",
    "x_train , x_test , y_train , y_test = train_test_split(x , y)"
   ]
  },
  {
   "cell_type": "code",
   "execution_count": 42,
   "metadata": {},
   "outputs": [
    {
     "name": "stdout",
     "output_type": "stream",
     "text": [
      "Model: \"sequential_12\"\n",
      "_________________________________________________________________\n",
      "Layer (type)                 Output Shape              Param #   \n",
      "=================================================================\n",
      "dense_26 (Dense)             (None, 16)                128       \n",
      "_________________________________________________________________\n",
      "dense_27 (Dense)             (None, 32)                544       \n",
      "_________________________________________________________________\n",
      "dense_28 (Dense)             (None, 7)                 231       \n",
      "=================================================================\n",
      "Total params: 903\n",
      "Trainable params: 903\n",
      "Non-trainable params: 0\n",
      "_________________________________________________________________\n"
     ]
    }
   ],
   "source": [
    "model = Sequential()\n",
    "\n",
    "l1 = Dense(16 , activation=\"relu\" , input_dim=7)\n",
    "model.add( l1 )\n",
    "\n",
    "l2 = Dense(32 , activation=\"relu\")\n",
    "model.add( l2 )\n",
    "\n",
    "out = Dense(7 , activation=\"softmax\")\n",
    "model.add(out)\n",
    "\n",
    "model.compile(metrics=[\"accuracy\"])\n",
    "\n",
    "model.summary()"
   ]
  },
  {
   "cell_type": "code",
   "execution_count": 43,
   "metadata": {},
   "outputs": [
    {
     "name": "stdout",
     "output_type": "stream",
     "text": [
      "Epoch 1/2\n"
     ]
    },
    {
     "ename": "ValueError",
     "evalue": "in user code:\n\n    /home/ojas3/.local/lib/python3.6/site-packages/tensorflow/python/keras/engine/training.py:571 train_function  *\n        outputs = self.distribute_strategy.run(\n    /home/ojas3/.local/lib/python3.6/site-packages/tensorflow/python/distribute/distribute_lib.py:951 run  **\n        return self._extended.call_for_each_replica(fn, args=args, kwargs=kwargs)\n    /home/ojas3/.local/lib/python3.6/site-packages/tensorflow/python/distribute/distribute_lib.py:2290 call_for_each_replica\n        return self._call_for_each_replica(fn, args, kwargs)\n    /home/ojas3/.local/lib/python3.6/site-packages/tensorflow/python/distribute/distribute_lib.py:2649 _call_for_each_replica\n        return fn(*args, **kwargs)\n    /home/ojas3/.local/lib/python3.6/site-packages/tensorflow/python/keras/engine/training.py:541 train_step  **\n        self.trainable_variables)\n    /home/ojas3/.local/lib/python3.6/site-packages/tensorflow/python/keras/engine/training.py:1804 _minimize\n        trainable_variables))\n    /home/ojas3/.local/lib/python3.6/site-packages/tensorflow/python/keras/optimizer_v2/optimizer_v2.py:521 _aggregate_gradients\n        filtered_grads_and_vars = _filter_grads(grads_and_vars)\n    /home/ojas3/.local/lib/python3.6/site-packages/tensorflow/python/keras/optimizer_v2/optimizer_v2.py:1219 _filter_grads\n        ([v.name for _, v in grads_and_vars],))\n\n    ValueError: No gradients provided for any variable: ['dense_26/kernel:0', 'dense_26/bias:0', 'dense_27/kernel:0', 'dense_27/bias:0', 'dense_28/kernel:0', 'dense_28/bias:0'].\n",
     "output_type": "error",
     "traceback": [
      "\u001b[0;31m---------------------------------------------------------------------------\u001b[0m",
      "\u001b[0;31mValueError\u001b[0m                                Traceback (most recent call last)",
      "\u001b[0;32m<ipython-input-43-b8db20b9aa68>\u001b[0m in \u001b[0;36m<module>\u001b[0;34m\u001b[0m\n\u001b[0;32m----> 1\u001b[0;31m \u001b[0mmodel\u001b[0m\u001b[0;34m.\u001b[0m\u001b[0mfit\u001b[0m\u001b[0;34m(\u001b[0m\u001b[0mx_train\u001b[0m \u001b[0;34m,\u001b[0m \u001b[0my_train\u001b[0m \u001b[0;34m,\u001b[0m \u001b[0mepochs\u001b[0m\u001b[0;34m=\u001b[0m\u001b[0;36m2\u001b[0m \u001b[0;34m,\u001b[0m \u001b[0mbatch_size\u001b[0m\u001b[0;34m=\u001b[0m\u001b[0;36m30\u001b[0m \u001b[0;34m,\u001b[0m \u001b[0mvalidation_data\u001b[0m\u001b[0;34m=\u001b[0m\u001b[0;34m(\u001b[0m\u001b[0mx_test\u001b[0m \u001b[0;34m,\u001b[0m \u001b[0my_test\u001b[0m\u001b[0;34m)\u001b[0m\u001b[0;34m)\u001b[0m\u001b[0;34m\u001b[0m\u001b[0;34m\u001b[0m\u001b[0m\n\u001b[0m",
      "\u001b[0;32m~/.local/lib/python3.6/site-packages/tensorflow/python/keras/engine/training.py\u001b[0m in \u001b[0;36m_method_wrapper\u001b[0;34m(self, *args, **kwargs)\u001b[0m\n\u001b[1;32m     64\u001b[0m   \u001b[0;32mdef\u001b[0m \u001b[0m_method_wrapper\u001b[0m\u001b[0;34m(\u001b[0m\u001b[0mself\u001b[0m\u001b[0;34m,\u001b[0m \u001b[0;34m*\u001b[0m\u001b[0margs\u001b[0m\u001b[0;34m,\u001b[0m \u001b[0;34m**\u001b[0m\u001b[0mkwargs\u001b[0m\u001b[0;34m)\u001b[0m\u001b[0;34m:\u001b[0m\u001b[0;34m\u001b[0m\u001b[0;34m\u001b[0m\u001b[0m\n\u001b[1;32m     65\u001b[0m     \u001b[0;32mif\u001b[0m \u001b[0;32mnot\u001b[0m \u001b[0mself\u001b[0m\u001b[0;34m.\u001b[0m\u001b[0m_in_multi_worker_mode\u001b[0m\u001b[0;34m(\u001b[0m\u001b[0;34m)\u001b[0m\u001b[0;34m:\u001b[0m  \u001b[0;31m# pylint: disable=protected-access\u001b[0m\u001b[0;34m\u001b[0m\u001b[0;34m\u001b[0m\u001b[0m\n\u001b[0;32m---> 66\u001b[0;31m       \u001b[0;32mreturn\u001b[0m \u001b[0mmethod\u001b[0m\u001b[0;34m(\u001b[0m\u001b[0mself\u001b[0m\u001b[0;34m,\u001b[0m \u001b[0;34m*\u001b[0m\u001b[0margs\u001b[0m\u001b[0;34m,\u001b[0m \u001b[0;34m**\u001b[0m\u001b[0mkwargs\u001b[0m\u001b[0;34m)\u001b[0m\u001b[0;34m\u001b[0m\u001b[0;34m\u001b[0m\u001b[0m\n\u001b[0m\u001b[1;32m     67\u001b[0m \u001b[0;34m\u001b[0m\u001b[0m\n\u001b[1;32m     68\u001b[0m     \u001b[0;31m# Running inside `run_distribute_coordinator` already.\u001b[0m\u001b[0;34m\u001b[0m\u001b[0;34m\u001b[0m\u001b[0;34m\u001b[0m\u001b[0m\n",
      "\u001b[0;32m~/.local/lib/python3.6/site-packages/tensorflow/python/keras/engine/training.py\u001b[0m in \u001b[0;36mfit\u001b[0;34m(self, x, y, batch_size, epochs, verbose, callbacks, validation_split, validation_data, shuffle, class_weight, sample_weight, initial_epoch, steps_per_epoch, validation_steps, validation_batch_size, validation_freq, max_queue_size, workers, use_multiprocessing)\u001b[0m\n\u001b[1;32m    846\u001b[0m                 batch_size=batch_size):\n\u001b[1;32m    847\u001b[0m               \u001b[0mcallbacks\u001b[0m\u001b[0;34m.\u001b[0m\u001b[0mon_train_batch_begin\u001b[0m\u001b[0;34m(\u001b[0m\u001b[0mstep\u001b[0m\u001b[0;34m)\u001b[0m\u001b[0;34m\u001b[0m\u001b[0;34m\u001b[0m\u001b[0m\n\u001b[0;32m--> 848\u001b[0;31m               \u001b[0mtmp_logs\u001b[0m \u001b[0;34m=\u001b[0m \u001b[0mtrain_function\u001b[0m\u001b[0;34m(\u001b[0m\u001b[0miterator\u001b[0m\u001b[0;34m)\u001b[0m\u001b[0;34m\u001b[0m\u001b[0;34m\u001b[0m\u001b[0m\n\u001b[0m\u001b[1;32m    849\u001b[0m               \u001b[0;31m# Catch OutOfRangeError for Datasets of unknown size.\u001b[0m\u001b[0;34m\u001b[0m\u001b[0;34m\u001b[0m\u001b[0;34m\u001b[0m\u001b[0m\n\u001b[1;32m    850\u001b[0m               \u001b[0;31m# This blocks until the batch has finished executing.\u001b[0m\u001b[0;34m\u001b[0m\u001b[0;34m\u001b[0m\u001b[0;34m\u001b[0m\u001b[0m\n",
      "\u001b[0;32m~/.local/lib/python3.6/site-packages/tensorflow/python/eager/def_function.py\u001b[0m in \u001b[0;36m__call__\u001b[0;34m(self, *args, **kwds)\u001b[0m\n\u001b[1;32m    578\u001b[0m         \u001b[0mxla_context\u001b[0m\u001b[0;34m.\u001b[0m\u001b[0mExit\u001b[0m\u001b[0;34m(\u001b[0m\u001b[0;34m)\u001b[0m\u001b[0;34m\u001b[0m\u001b[0;34m\u001b[0m\u001b[0m\n\u001b[1;32m    579\u001b[0m     \u001b[0;32melse\u001b[0m\u001b[0;34m:\u001b[0m\u001b[0;34m\u001b[0m\u001b[0;34m\u001b[0m\u001b[0m\n\u001b[0;32m--> 580\u001b[0;31m       \u001b[0mresult\u001b[0m \u001b[0;34m=\u001b[0m \u001b[0mself\u001b[0m\u001b[0;34m.\u001b[0m\u001b[0m_call\u001b[0m\u001b[0;34m(\u001b[0m\u001b[0;34m*\u001b[0m\u001b[0margs\u001b[0m\u001b[0;34m,\u001b[0m \u001b[0;34m**\u001b[0m\u001b[0mkwds\u001b[0m\u001b[0;34m)\u001b[0m\u001b[0;34m\u001b[0m\u001b[0;34m\u001b[0m\u001b[0m\n\u001b[0m\u001b[1;32m    581\u001b[0m \u001b[0;34m\u001b[0m\u001b[0m\n\u001b[1;32m    582\u001b[0m     \u001b[0;32mif\u001b[0m \u001b[0mtracing_count\u001b[0m \u001b[0;34m==\u001b[0m \u001b[0mself\u001b[0m\u001b[0;34m.\u001b[0m\u001b[0m_get_tracing_count\u001b[0m\u001b[0;34m(\u001b[0m\u001b[0;34m)\u001b[0m\u001b[0;34m:\u001b[0m\u001b[0;34m\u001b[0m\u001b[0;34m\u001b[0m\u001b[0m\n",
      "\u001b[0;32m~/.local/lib/python3.6/site-packages/tensorflow/python/eager/def_function.py\u001b[0m in \u001b[0;36m_call\u001b[0;34m(self, *args, **kwds)\u001b[0m\n\u001b[1;32m    625\u001b[0m       \u001b[0;31m# This is the first call of __call__, so we have to initialize.\u001b[0m\u001b[0;34m\u001b[0m\u001b[0;34m\u001b[0m\u001b[0;34m\u001b[0m\u001b[0m\n\u001b[1;32m    626\u001b[0m       \u001b[0minitializers\u001b[0m \u001b[0;34m=\u001b[0m \u001b[0;34m[\u001b[0m\u001b[0;34m]\u001b[0m\u001b[0;34m\u001b[0m\u001b[0;34m\u001b[0m\u001b[0m\n\u001b[0;32m--> 627\u001b[0;31m       \u001b[0mself\u001b[0m\u001b[0;34m.\u001b[0m\u001b[0m_initialize\u001b[0m\u001b[0;34m(\u001b[0m\u001b[0margs\u001b[0m\u001b[0;34m,\u001b[0m \u001b[0mkwds\u001b[0m\u001b[0;34m,\u001b[0m \u001b[0madd_initializers_to\u001b[0m\u001b[0;34m=\u001b[0m\u001b[0minitializers\u001b[0m\u001b[0;34m)\u001b[0m\u001b[0;34m\u001b[0m\u001b[0;34m\u001b[0m\u001b[0m\n\u001b[0m\u001b[1;32m    628\u001b[0m     \u001b[0;32mfinally\u001b[0m\u001b[0;34m:\u001b[0m\u001b[0;34m\u001b[0m\u001b[0;34m\u001b[0m\u001b[0m\n\u001b[1;32m    629\u001b[0m       \u001b[0;31m# At this point we know that the initialization is complete (or less\u001b[0m\u001b[0;34m\u001b[0m\u001b[0;34m\u001b[0m\u001b[0;34m\u001b[0m\u001b[0m\n",
      "\u001b[0;32m~/.local/lib/python3.6/site-packages/tensorflow/python/eager/def_function.py\u001b[0m in \u001b[0;36m_initialize\u001b[0;34m(self, args, kwds, add_initializers_to)\u001b[0m\n\u001b[1;32m    504\u001b[0m     self._concrete_stateful_fn = (\n\u001b[1;32m    505\u001b[0m         self._stateful_fn._get_concrete_function_internal_garbage_collected(  # pylint: disable=protected-access\n\u001b[0;32m--> 506\u001b[0;31m             *args, **kwds))\n\u001b[0m\u001b[1;32m    507\u001b[0m \u001b[0;34m\u001b[0m\u001b[0m\n\u001b[1;32m    508\u001b[0m     \u001b[0;32mdef\u001b[0m \u001b[0minvalid_creator_scope\u001b[0m\u001b[0;34m(\u001b[0m\u001b[0;34m*\u001b[0m\u001b[0munused_args\u001b[0m\u001b[0;34m,\u001b[0m \u001b[0;34m**\u001b[0m\u001b[0munused_kwds\u001b[0m\u001b[0;34m)\u001b[0m\u001b[0;34m:\u001b[0m\u001b[0;34m\u001b[0m\u001b[0;34m\u001b[0m\u001b[0m\n",
      "\u001b[0;32m~/.local/lib/python3.6/site-packages/tensorflow/python/eager/function.py\u001b[0m in \u001b[0;36m_get_concrete_function_internal_garbage_collected\u001b[0;34m(self, *args, **kwargs)\u001b[0m\n\u001b[1;32m   2444\u001b[0m       \u001b[0margs\u001b[0m\u001b[0;34m,\u001b[0m \u001b[0mkwargs\u001b[0m \u001b[0;34m=\u001b[0m \u001b[0;32mNone\u001b[0m\u001b[0;34m,\u001b[0m \u001b[0;32mNone\u001b[0m\u001b[0;34m\u001b[0m\u001b[0;34m\u001b[0m\u001b[0m\n\u001b[1;32m   2445\u001b[0m     \u001b[0;32mwith\u001b[0m \u001b[0mself\u001b[0m\u001b[0;34m.\u001b[0m\u001b[0m_lock\u001b[0m\u001b[0;34m:\u001b[0m\u001b[0;34m\u001b[0m\u001b[0;34m\u001b[0m\u001b[0m\n\u001b[0;32m-> 2446\u001b[0;31m       \u001b[0mgraph_function\u001b[0m\u001b[0;34m,\u001b[0m \u001b[0m_\u001b[0m\u001b[0;34m,\u001b[0m \u001b[0m_\u001b[0m \u001b[0;34m=\u001b[0m \u001b[0mself\u001b[0m\u001b[0;34m.\u001b[0m\u001b[0m_maybe_define_function\u001b[0m\u001b[0;34m(\u001b[0m\u001b[0margs\u001b[0m\u001b[0;34m,\u001b[0m \u001b[0mkwargs\u001b[0m\u001b[0;34m)\u001b[0m\u001b[0;34m\u001b[0m\u001b[0;34m\u001b[0m\u001b[0m\n\u001b[0m\u001b[1;32m   2447\u001b[0m     \u001b[0;32mreturn\u001b[0m \u001b[0mgraph_function\u001b[0m\u001b[0;34m\u001b[0m\u001b[0;34m\u001b[0m\u001b[0m\n\u001b[1;32m   2448\u001b[0m \u001b[0;34m\u001b[0m\u001b[0m\n",
      "\u001b[0;32m~/.local/lib/python3.6/site-packages/tensorflow/python/eager/function.py\u001b[0m in \u001b[0;36m_maybe_define_function\u001b[0;34m(self, args, kwargs)\u001b[0m\n\u001b[1;32m   2775\u001b[0m \u001b[0;34m\u001b[0m\u001b[0m\n\u001b[1;32m   2776\u001b[0m       \u001b[0mself\u001b[0m\u001b[0;34m.\u001b[0m\u001b[0m_function_cache\u001b[0m\u001b[0;34m.\u001b[0m\u001b[0mmissed\u001b[0m\u001b[0;34m.\u001b[0m\u001b[0madd\u001b[0m\u001b[0;34m(\u001b[0m\u001b[0mcall_context_key\u001b[0m\u001b[0;34m)\u001b[0m\u001b[0;34m\u001b[0m\u001b[0;34m\u001b[0m\u001b[0m\n\u001b[0;32m-> 2777\u001b[0;31m       \u001b[0mgraph_function\u001b[0m \u001b[0;34m=\u001b[0m \u001b[0mself\u001b[0m\u001b[0;34m.\u001b[0m\u001b[0m_create_graph_function\u001b[0m\u001b[0;34m(\u001b[0m\u001b[0margs\u001b[0m\u001b[0;34m,\u001b[0m \u001b[0mkwargs\u001b[0m\u001b[0;34m)\u001b[0m\u001b[0;34m\u001b[0m\u001b[0;34m\u001b[0m\u001b[0m\n\u001b[0m\u001b[1;32m   2778\u001b[0m       \u001b[0mself\u001b[0m\u001b[0;34m.\u001b[0m\u001b[0m_function_cache\u001b[0m\u001b[0;34m.\u001b[0m\u001b[0mprimary\u001b[0m\u001b[0;34m[\u001b[0m\u001b[0mcache_key\u001b[0m\u001b[0;34m]\u001b[0m \u001b[0;34m=\u001b[0m \u001b[0mgraph_function\u001b[0m\u001b[0;34m\u001b[0m\u001b[0;34m\u001b[0m\u001b[0m\n\u001b[1;32m   2779\u001b[0m       \u001b[0;32mreturn\u001b[0m \u001b[0mgraph_function\u001b[0m\u001b[0;34m,\u001b[0m \u001b[0margs\u001b[0m\u001b[0;34m,\u001b[0m \u001b[0mkwargs\u001b[0m\u001b[0;34m\u001b[0m\u001b[0;34m\u001b[0m\u001b[0m\n",
      "\u001b[0;32m~/.local/lib/python3.6/site-packages/tensorflow/python/eager/function.py\u001b[0m in \u001b[0;36m_create_graph_function\u001b[0;34m(self, args, kwargs, override_flat_arg_shapes)\u001b[0m\n\u001b[1;32m   2665\u001b[0m             \u001b[0marg_names\u001b[0m\u001b[0;34m=\u001b[0m\u001b[0marg_names\u001b[0m\u001b[0;34m,\u001b[0m\u001b[0;34m\u001b[0m\u001b[0;34m\u001b[0m\u001b[0m\n\u001b[1;32m   2666\u001b[0m             \u001b[0moverride_flat_arg_shapes\u001b[0m\u001b[0;34m=\u001b[0m\u001b[0moverride_flat_arg_shapes\u001b[0m\u001b[0;34m,\u001b[0m\u001b[0;34m\u001b[0m\u001b[0;34m\u001b[0m\u001b[0m\n\u001b[0;32m-> 2667\u001b[0;31m             capture_by_value=self._capture_by_value),\n\u001b[0m\u001b[1;32m   2668\u001b[0m         \u001b[0mself\u001b[0m\u001b[0;34m.\u001b[0m\u001b[0m_function_attributes\u001b[0m\u001b[0;34m,\u001b[0m\u001b[0;34m\u001b[0m\u001b[0;34m\u001b[0m\u001b[0m\n\u001b[1;32m   2669\u001b[0m         \u001b[0;31m# Tell the ConcreteFunction to clean up its graph once it goes out of\u001b[0m\u001b[0;34m\u001b[0m\u001b[0;34m\u001b[0m\u001b[0;34m\u001b[0m\u001b[0m\n",
      "\u001b[0;32m~/.local/lib/python3.6/site-packages/tensorflow/python/framework/func_graph.py\u001b[0m in \u001b[0;36mfunc_graph_from_py_func\u001b[0;34m(name, python_func, args, kwargs, signature, func_graph, autograph, autograph_options, add_control_dependencies, arg_names, op_return_value, collections, capture_by_value, override_flat_arg_shapes)\u001b[0m\n\u001b[1;32m    979\u001b[0m         \u001b[0m_\u001b[0m\u001b[0;34m,\u001b[0m \u001b[0moriginal_func\u001b[0m \u001b[0;34m=\u001b[0m \u001b[0mtf_decorator\u001b[0m\u001b[0;34m.\u001b[0m\u001b[0munwrap\u001b[0m\u001b[0;34m(\u001b[0m\u001b[0mpython_func\u001b[0m\u001b[0;34m)\u001b[0m\u001b[0;34m\u001b[0m\u001b[0;34m\u001b[0m\u001b[0m\n\u001b[1;32m    980\u001b[0m \u001b[0;34m\u001b[0m\u001b[0m\n\u001b[0;32m--> 981\u001b[0;31m       \u001b[0mfunc_outputs\u001b[0m \u001b[0;34m=\u001b[0m \u001b[0mpython_func\u001b[0m\u001b[0;34m(\u001b[0m\u001b[0;34m*\u001b[0m\u001b[0mfunc_args\u001b[0m\u001b[0;34m,\u001b[0m \u001b[0;34m**\u001b[0m\u001b[0mfunc_kwargs\u001b[0m\u001b[0;34m)\u001b[0m\u001b[0;34m\u001b[0m\u001b[0;34m\u001b[0m\u001b[0m\n\u001b[0m\u001b[1;32m    982\u001b[0m \u001b[0;34m\u001b[0m\u001b[0m\n\u001b[1;32m    983\u001b[0m       \u001b[0;31m# invariant: `func_outputs` contains only Tensors, CompositeTensors,\u001b[0m\u001b[0;34m\u001b[0m\u001b[0;34m\u001b[0m\u001b[0;34m\u001b[0m\u001b[0m\n",
      "\u001b[0;32m~/.local/lib/python3.6/site-packages/tensorflow/python/eager/def_function.py\u001b[0m in \u001b[0;36mwrapped_fn\u001b[0;34m(*args, **kwds)\u001b[0m\n\u001b[1;32m    439\u001b[0m         \u001b[0;31m# __wrapped__ allows AutoGraph to swap in a converted function. We give\u001b[0m\u001b[0;34m\u001b[0m\u001b[0;34m\u001b[0m\u001b[0;34m\u001b[0m\u001b[0m\n\u001b[1;32m    440\u001b[0m         \u001b[0;31m# the function a weak reference to itself to avoid a reference cycle.\u001b[0m\u001b[0;34m\u001b[0m\u001b[0;34m\u001b[0m\u001b[0;34m\u001b[0m\u001b[0m\n\u001b[0;32m--> 441\u001b[0;31m         \u001b[0;32mreturn\u001b[0m \u001b[0mweak_wrapped_fn\u001b[0m\u001b[0;34m(\u001b[0m\u001b[0;34m)\u001b[0m\u001b[0;34m.\u001b[0m\u001b[0m__wrapped__\u001b[0m\u001b[0;34m(\u001b[0m\u001b[0;34m*\u001b[0m\u001b[0margs\u001b[0m\u001b[0;34m,\u001b[0m \u001b[0;34m**\u001b[0m\u001b[0mkwds\u001b[0m\u001b[0;34m)\u001b[0m\u001b[0;34m\u001b[0m\u001b[0;34m\u001b[0m\u001b[0m\n\u001b[0m\u001b[1;32m    442\u001b[0m     \u001b[0mweak_wrapped_fn\u001b[0m \u001b[0;34m=\u001b[0m \u001b[0mweakref\u001b[0m\u001b[0;34m.\u001b[0m\u001b[0mref\u001b[0m\u001b[0;34m(\u001b[0m\u001b[0mwrapped_fn\u001b[0m\u001b[0;34m)\u001b[0m\u001b[0;34m\u001b[0m\u001b[0;34m\u001b[0m\u001b[0m\n\u001b[1;32m    443\u001b[0m \u001b[0;34m\u001b[0m\u001b[0m\n",
      "\u001b[0;32m~/.local/lib/python3.6/site-packages/tensorflow/python/framework/func_graph.py\u001b[0m in \u001b[0;36mwrapper\u001b[0;34m(*args, **kwargs)\u001b[0m\n\u001b[1;32m    966\u001b[0m           \u001b[0;32mexcept\u001b[0m \u001b[0mException\u001b[0m \u001b[0;32mas\u001b[0m \u001b[0me\u001b[0m\u001b[0;34m:\u001b[0m  \u001b[0;31m# pylint:disable=broad-except\u001b[0m\u001b[0;34m\u001b[0m\u001b[0;34m\u001b[0m\u001b[0m\n\u001b[1;32m    967\u001b[0m             \u001b[0;32mif\u001b[0m \u001b[0mhasattr\u001b[0m\u001b[0;34m(\u001b[0m\u001b[0me\u001b[0m\u001b[0;34m,\u001b[0m \u001b[0;34m\"ag_error_metadata\"\u001b[0m\u001b[0;34m)\u001b[0m\u001b[0;34m:\u001b[0m\u001b[0;34m\u001b[0m\u001b[0;34m\u001b[0m\u001b[0m\n\u001b[0;32m--> 968\u001b[0;31m               \u001b[0;32mraise\u001b[0m \u001b[0me\u001b[0m\u001b[0;34m.\u001b[0m\u001b[0mag_error_metadata\u001b[0m\u001b[0;34m.\u001b[0m\u001b[0mto_exception\u001b[0m\u001b[0;34m(\u001b[0m\u001b[0me\u001b[0m\u001b[0;34m)\u001b[0m\u001b[0;34m\u001b[0m\u001b[0;34m\u001b[0m\u001b[0m\n\u001b[0m\u001b[1;32m    969\u001b[0m             \u001b[0;32melse\u001b[0m\u001b[0;34m:\u001b[0m\u001b[0;34m\u001b[0m\u001b[0;34m\u001b[0m\u001b[0m\n\u001b[1;32m    970\u001b[0m               \u001b[0;32mraise\u001b[0m\u001b[0;34m\u001b[0m\u001b[0;34m\u001b[0m\u001b[0m\n",
      "\u001b[0;31mValueError\u001b[0m: in user code:\n\n    /home/ojas3/.local/lib/python3.6/site-packages/tensorflow/python/keras/engine/training.py:571 train_function  *\n        outputs = self.distribute_strategy.run(\n    /home/ojas3/.local/lib/python3.6/site-packages/tensorflow/python/distribute/distribute_lib.py:951 run  **\n        return self._extended.call_for_each_replica(fn, args=args, kwargs=kwargs)\n    /home/ojas3/.local/lib/python3.6/site-packages/tensorflow/python/distribute/distribute_lib.py:2290 call_for_each_replica\n        return self._call_for_each_replica(fn, args, kwargs)\n    /home/ojas3/.local/lib/python3.6/site-packages/tensorflow/python/distribute/distribute_lib.py:2649 _call_for_each_replica\n        return fn(*args, **kwargs)\n    /home/ojas3/.local/lib/python3.6/site-packages/tensorflow/python/keras/engine/training.py:541 train_step  **\n        self.trainable_variables)\n    /home/ojas3/.local/lib/python3.6/site-packages/tensorflow/python/keras/engine/training.py:1804 _minimize\n        trainable_variables))\n    /home/ojas3/.local/lib/python3.6/site-packages/tensorflow/python/keras/optimizer_v2/optimizer_v2.py:521 _aggregate_gradients\n        filtered_grads_and_vars = _filter_grads(grads_and_vars)\n    /home/ojas3/.local/lib/python3.6/site-packages/tensorflow/python/keras/optimizer_v2/optimizer_v2.py:1219 _filter_grads\n        ([v.name for _, v in grads_and_vars],))\n\n    ValueError: No gradients provided for any variable: ['dense_26/kernel:0', 'dense_26/bias:0', 'dense_27/kernel:0', 'dense_27/bias:0', 'dense_28/kernel:0', 'dense_28/bias:0'].\n"
     ]
    }
   ],
   "source": [
    "model.fit(x_train , y_train , epochs=2 , batch_size=30 , validation_data=(x_test , y_test))"
   ]
  },
  {
   "cell_type": "code",
   "execution_count": null,
   "metadata": {},
   "outputs": [],
   "source": []
  }
 ],
 "metadata": {
  "kernelspec": {
   "display_name": "Python 3",
   "language": "python",
   "name": "python3"
  },
  "language_info": {
   "codemirror_mode": {
    "name": "ipython",
    "version": 3
   },
   "file_extension": ".py",
   "mimetype": "text/x-python",
   "name": "python",
   "nbconvert_exporter": "python",
   "pygments_lexer": "ipython3",
   "version": "3.6.9"
  }
 },
 "nbformat": 4,
 "nbformat_minor": 4
}
