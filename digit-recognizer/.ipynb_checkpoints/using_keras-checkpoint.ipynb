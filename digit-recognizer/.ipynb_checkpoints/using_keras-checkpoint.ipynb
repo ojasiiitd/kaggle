{
 "cells": [
  {
   "cell_type": "code",
   "execution_count": 1,
   "metadata": {},
   "outputs": [
    {
     "name": "stderr",
     "output_type": "stream",
     "text": [
      "Using TensorFlow backend.\n"
     ]
    }
   ],
   "source": [
    "import numpy as np\n",
    "import pandas as pd\n",
    "import matplotlib.pyplot as plt\n",
    "from sklearn.model_selection import train_test_split\n",
    "import tensorflow as tf\n",
    "from keras.utils import to_categorical\n",
    "from keras.models import Sequential\n",
    "from keras.layers import Conv2D, MaxPooling2D, Flatten, Dense , Dropout"
   ]
  },
  {
   "cell_type": "code",
   "execution_count": 2,
   "metadata": {},
   "outputs": [],
   "source": [
    "train = pd.read_csv(\"input/train.csv\")\n",
    "test = pd.read_csv(\"input/test.csv\")"
   ]
  },
  {
   "cell_type": "code",
   "execution_count": 3,
   "metadata": {},
   "outputs": [
    {
     "data": {
      "text/plain": [
       "array([1., 0., 1., ..., 7., 6., 9.], dtype=float32)"
      ]
     },
     "execution_count": 3,
     "metadata": {},
     "output_type": "execute_result"
    }
   ],
   "source": [
    "x_train = train.drop(\"label\" , axis=1).values.astype(np.float32)\n",
    "y_train = train[\"label\"].values.astype(np.float32)\n",
    "# print(x_train.shape , y_train.shape)\n",
    "y_train"
   ]
  },
  {
   "cell_type": "code",
   "execution_count": 4,
   "metadata": {},
   "outputs": [
    {
     "name": "stdout",
     "output_type": "stream",
     "text": [
      "[    1     2     3 ... 27998 27999 28000]\n"
     ]
    }
   ],
   "source": [
    "x_test = test.values.astype(np.float32)\n",
    "test_labels = np.arange(1 , len(x_test)+1)\n",
    "print(test_labels)\n",
    "# x_test.head()"
   ]
  },
  {
   "cell_type": "code",
   "execution_count": 5,
   "metadata": {},
   "outputs": [
    {
     "data": {
      "text/plain": [
       "array([[0., 1., 0., ..., 0., 0., 0.],\n",
       "       [1., 0., 0., ..., 0., 0., 0.],\n",
       "       [0., 1., 0., ..., 0., 0., 0.],\n",
       "       ...,\n",
       "       [0., 0., 0., ..., 1., 0., 0.],\n",
       "       [0., 0., 0., ..., 0., 0., 0.],\n",
       "       [0., 0., 0., ..., 0., 0., 1.]], dtype=float32)"
      ]
     },
     "execution_count": 5,
     "metadata": {},
     "output_type": "execute_result"
    }
   ],
   "source": [
    "x_train_reshaped = x_train.reshape(x_train.shape[0] , 28 , 28 , 1)\n",
    "x_test_reshaped = x_test.reshape(x_test.shape[0] , 28 , 28 , 1)\n",
    "\n",
    "y_train_onehot = to_categorical(y_train)\n",
    "y_train_onehot"
   ]
  },
  {
   "cell_type": "code",
   "execution_count": 6,
   "metadata": {},
   "outputs": [
    {
     "data": {
      "text/plain": [
       "(31500, 31500, 10500, 10500)"
      ]
     },
     "execution_count": 6,
     "metadata": {},
     "output_type": "execute_result"
    }
   ],
   "source": [
    "xtr , xte , ytr , yte = train_test_split(x_train_reshaped , y_train_onehot)\n",
    "len(xtr) , len(ytr) , len(xte) , len(yte)"
   ]
  },
  {
   "cell_type": "code",
   "execution_count": 12,
   "metadata": {},
   "outputs": [
    {
     "name": "stdout",
     "output_type": "stream",
     "text": [
      "Model: \"sequential_1\"\n",
      "_________________________________________________________________\n",
      "Layer (type)                 Output Shape              Param #   \n",
      "=================================================================\n",
      "conv2d_2 (Conv2D)            (None, 28, 28, 32)        160       \n",
      "_________________________________________________________________\n",
      "max_pooling2d_2 (MaxPooling2 (None, 14, 14, 32)        0         \n",
      "_________________________________________________________________\n",
      "conv2d_3 (Conv2D)            (None, 14, 14, 64)        8256      \n",
      "_________________________________________________________________\n",
      "max_pooling2d_3 (MaxPooling2 (None, 7, 7, 64)          0         \n",
      "_________________________________________________________________\n",
      "flatten_1 (Flatten)          (None, 3136)              0         \n",
      "_________________________________________________________________\n",
      "dense_2 (Dense)              (None, 500)               1568500   \n",
      "_________________________________________________________________\n",
      "dropout_1 (Dropout)          (None, 500)               0         \n",
      "_________________________________________________________________\n",
      "dense_3 (Dense)              (None, 1)                 501       \n",
      "=================================================================\n",
      "Total params: 1,577,417\n",
      "Trainable params: 1,577,417\n",
      "Non-trainable params: 0\n",
      "_________________________________________________________________\n"
     ]
    }
   ],
   "source": [
    "model = Sequential()\n",
    "model.add(\n",
    "    Conv2D(filters=32 , kernel_size=2 , padding=\"same\" , activation=\"relu\" , input_shape=(28 , 28 , 1))\n",
    ")\n",
    "model.add(\n",
    "    MaxPooling2D(pool_size=2)\n",
    ")\n",
    "model.add(\n",
    "    Conv2D(filters=64 , kernel_size=2 , padding=\"same\" , activation=\"relu\")\n",
    ")\n",
    "model.add(\n",
    "    MaxPooling2D(pool_size=2)\n",
    ")\n",
    "model.add(\n",
    "    Flatten()\n",
    ")\n",
    "model.add(\n",
    "    Dense(500 , activation=\"relu\")\n",
    ")\n",
    "model.add(\n",
    "    Dropout(0.7)\n",
    ")\n",
    "model.add(\n",
    "    Dense(10 , activation=\"softmax\")\n",
    ")\n",
    "model.summary()"
   ]
  },
  {
   "cell_type": "code",
   "execution_count": 8,
   "metadata": {},
   "outputs": [
    {
     "name": "stdout",
     "output_type": "stream",
     "text": [
      "Epoch 1/6\n",
      "420/420 [==============================] - 22s 53ms/step - loss: 1.1411 - accuracy: 0.8821\n",
      "Epoch 2/6\n",
      "420/420 [==============================] - 25s 59ms/step - loss: 0.1508 - accuracy: 0.9586\n",
      "Epoch 3/6\n",
      "420/420 [==============================] - 25s 60ms/step - loss: 0.1207 - accuracy: 0.9676\n",
      "Epoch 4/6\n",
      "420/420 [==============================] - 24s 58ms/step - loss: 0.1024 - accuracy: 0.9735\n",
      "Epoch 5/6\n",
      "420/420 [==============================] - 26s 62ms/step - loss: 0.0912 - accuracy: 0.9750\n",
      "Epoch 6/6\n",
      "420/420 [==============================] - 23s 55ms/step - loss: 0.0868 - accuracy: 0.9768\n"
     ]
    },
    {
     "data": {
      "text/plain": [
       "<tensorflow.python.keras.callbacks.History at 0x7fa955fac0f0>"
      ]
     },
     "execution_count": 8,
     "metadata": {},
     "output_type": "execute_result"
    }
   ],
   "source": [
    "model.compile(\n",
    "    optimizer=\"rmsprop\" , loss=\"categorical_crossentropy\",\n",
    "    metrics=[\"accuracy\"]\n",
    ")\n",
    "model.fit(\n",
    "    x_train_reshaped , y_train_onehot , epochs=6 , batch_size=100\n",
    ")"
   ]
  },
  {
   "cell_type": "code",
   "execution_count": 9,
   "metadata": {},
   "outputs": [],
   "source": [
    "y_pred = model.predict(x_test_reshaped)"
   ]
  },
  {
   "cell_type": "code",
   "execution_count": 10,
   "metadata": {},
   "outputs": [],
   "source": [
    "y_hat = np.argmax(y_pred , axis=1)\n",
    "soln = pd.DataFrame()\n",
    "soln[\"ImageId\"] = test_labels\n",
    "soln[\"Label\"] = y_hat"
   ]
  },
  {
   "cell_type": "code",
   "execution_count": 11,
   "metadata": {},
   "outputs": [],
   "source": [
    "soln.to_csv(\"solnKeras.csv\" , index=False)"
   ]
  },
  {
   "cell_type": "code",
   "execution_count": null,
   "metadata": {},
   "outputs": [],
   "source": []
  }
 ],
 "metadata": {
  "kernelspec": {
   "display_name": "venv",
   "language": "python",
   "name": "venv"
  },
  "language_info": {
   "codemirror_mode": {
    "name": "ipython",
    "version": 3
   },
   "file_extension": ".py",
   "mimetype": "text/x-python",
   "name": "python",
   "nbconvert_exporter": "python",
   "pygments_lexer": "ipython3",
   "version": "3.6.9"
  }
 },
 "nbformat": 4,
 "nbformat_minor": 4
}
